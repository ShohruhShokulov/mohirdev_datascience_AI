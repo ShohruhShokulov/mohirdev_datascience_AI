{
  "nbformat": 4,
  "nbformat_minor": 0,
  "metadata": {
    "colab": {
      "provenance": [],
      "authorship_tag": "ABX9TyOWksDaZsVPhXx+3rDCNu2S",
      "include_colab_link": true
    },
    "kernelspec": {
      "name": "python3",
      "display_name": "Python 3"
    },
    "language_info": {
      "name": "python"
    }
  },
  "cells": [
    {
      "cell_type": "markdown",
      "metadata": {
        "id": "view-in-github",
        "colab_type": "text"
      },
      "source": [
        "<a href=\"https://colab.research.google.com/github/ShohruhShokulov/mohirdev_datascience_AI/blob/main/numpyday6.ipynb\" target=\"_parent\"><img src=\"https://colab.research.google.com/assets/colab-badge.svg\" alt=\"Open In Colab\"/></a>"
      ]
    },
    {
      "cell_type": "code",
      "execution_count": 1,
      "metadata": {
        "id": "hYEGOH6sOTD0"
      },
      "outputs": [],
      "source": [
        "import numpy as np"
      ]
    },
    {
      "cell_type": "code",
      "source": [
        "a = np.array([1,2,3,4,5])\n",
        "b = np.array([10,20,30,40,50])\n",
        "con = np.array([True,True,False,True,False])"
      ],
      "metadata": {
        "id": "XfIeOx4SOWdK"
      },
      "execution_count": 5,
      "outputs": []
    },
    {
      "cell_type": "code",
      "source": [
        "np.where(con,a,b)"
      ],
      "metadata": {
        "colab": {
          "base_uri": "https://localhost:8080/"
        },
        "id": "JcWXfTgZPUzm",
        "outputId": "c4207e6c-79a7-4c69-8e53-875ae60aa7f2"
      },
      "execution_count": 6,
      "outputs": [
        {
          "output_type": "execute_result",
          "data": {
            "text/plain": [
              "array([ 1,  2, 30,  4, 50])"
            ]
          },
          "metadata": {},
          "execution_count": 6
        }
      ]
    },
    {
      "cell_type": "markdown",
      "source": [
        "#Mathematic and Statistic methods and their usage"
      ],
      "metadata": {
        "id": "yshHs-QnP2oR"
      }
    },
    {
      "cell_type": "code",
      "source": [
        "array = np.random.randn(5,4)\n",
        "array"
      ],
      "metadata": {
        "colab": {
          "base_uri": "https://localhost:8080/"
        },
        "id": "a7sOKH8zPYxh",
        "outputId": "d427e06e-00a6-4bf7-9114-82fe01672482"
      },
      "execution_count": 8,
      "outputs": [
        {
          "output_type": "execute_result",
          "data": {
            "text/plain": [
              "array([[ 0.06547503, -1.41651042,  0.19080865, -1.72282069],\n",
              "       [ 0.10283822, -0.59296271,  0.79903305,  1.08487796],\n",
              "       [ 1.79844809, -2.00457791,  1.28355016,  1.92997766],\n",
              "       [-0.5444145 ,  0.13541963, -0.94300604,  1.24097162],\n",
              "       [ 0.17255028,  0.6563819 ,  0.47840455, -0.87840983]])"
            ]
          },
          "metadata": {},
          "execution_count": 8
        }
      ]
    },
    {
      "cell_type": "code",
      "source": [
        "# sum method which returns sum of the elements of an array\n",
        "array.sum()"
      ],
      "metadata": {
        "colab": {
          "base_uri": "https://localhost:8080/"
        },
        "id": "k-tqPtsJQPum",
        "outputId": "8abb5850-6728-472b-d88f-e5f87174c7e1"
      },
      "execution_count": 9,
      "outputs": [
        {
          "output_type": "execute_result",
          "data": {
            "text/plain": [
              "1.8360346931273375"
            ]
          },
          "metadata": {},
          "execution_count": 9
        }
      ]
    },
    {
      "cell_type": "code",
      "source": [
        "np.sum(array)"
      ],
      "metadata": {
        "colab": {
          "base_uri": "https://localhost:8080/"
        },
        "id": "h8VDqMCxQvqf",
        "outputId": "8bc7bd42-6443-461e-eb10-283a5a0fe025"
      },
      "execution_count": 10,
      "outputs": [
        {
          "output_type": "execute_result",
          "data": {
            "text/plain": [
              "1.8360346931273375"
            ]
          },
          "metadata": {},
          "execution_count": 10
        }
      ]
    },
    {
      "cell_type": "code",
      "source": [
        "np.sum(array[0])"
      ],
      "metadata": {
        "colab": {
          "base_uri": "https://localhost:8080/"
        },
        "id": "q-OnTjLzQx9b",
        "outputId": "1c9bfca1-73d6-4325-f33f-7a679797dc59"
      },
      "execution_count": 11,
      "outputs": [
        {
          "output_type": "execute_result",
          "data": {
            "text/plain": [
              "-2.8830474426687283"
            ]
          },
          "metadata": {},
          "execution_count": 11
        }
      ]
    },
    {
      "cell_type": "code",
      "source": [
        "array.sum(axis = 1) # sum of raws"
      ],
      "metadata": {
        "colab": {
          "base_uri": "https://localhost:8080/"
        },
        "id": "s4L27LgzSKFJ",
        "outputId": "8399c433-d01b-4ac0-b8c2-3e61ad74d7b0"
      },
      "execution_count": 13,
      "outputs": [
        {
          "output_type": "execute_result",
          "data": {
            "text/plain": [
              "array([-2.88304744,  1.39378652,  3.007398  , -0.11102929,  0.4289269 ])"
            ]
          },
          "metadata": {},
          "execution_count": 13
        }
      ]
    },
    {
      "cell_type": "code",
      "source": [
        "array.sum(axis = 0) # sum of colums"
      ],
      "metadata": {
        "colab": {
          "base_uri": "https://localhost:8080/"
        },
        "id": "_MMsvhJtS9sl",
        "outputId": "8768269f-8894-40da-c523-57aeedf58d59"
      },
      "execution_count": 15,
      "outputs": [
        {
          "output_type": "execute_result",
          "data": {
            "text/plain": [
              "array([ 1.59489711, -3.22224951,  1.80879038,  1.65459671])"
            ]
          },
          "metadata": {},
          "execution_count": 15
        }
      ]
    },
    {
      "cell_type": "code",
      "source": [
        "# mean method\n",
        "data = np.arange(6)\n",
        "data"
      ],
      "metadata": {
        "colab": {
          "base_uri": "https://localhost:8080/"
        },
        "id": "lfOOjAhSUxGZ",
        "outputId": "e54545cd-fbe3-4fb6-9c73-e49b2a3e1070"
      },
      "execution_count": 16,
      "outputs": [
        {
          "output_type": "execute_result",
          "data": {
            "text/plain": [
              "array([0, 1, 2, 3, 4, 5])"
            ]
          },
          "metadata": {},
          "execution_count": 16
        }
      ]
    },
    {
      "cell_type": "code",
      "source": [
        "mean = data.sum()/len(data)\n",
        "mean"
      ],
      "metadata": {
        "colab": {
          "base_uri": "https://localhost:8080/"
        },
        "id": "NgdLHpKQVUSP",
        "outputId": "5bec3c49-a4e6-4745-89fd-ec870de95617"
      },
      "execution_count": 19,
      "outputs": [
        {
          "output_type": "execute_result",
          "data": {
            "text/plain": [
              "2.5"
            ]
          },
          "metadata": {},
          "execution_count": 19
        }
      ]
    },
    {
      "cell_type": "code",
      "source": [
        "# mean method in numpy\n",
        "np.mean(data)"
      ],
      "metadata": {
        "colab": {
          "base_uri": "https://localhost:8080/"
        },
        "id": "Ls5A2L6QVeb1",
        "outputId": "8896c3ed-0eba-48be-949c-1e7c29beb2a4"
      },
      "execution_count": 18,
      "outputs": [
        {
          "output_type": "execute_result",
          "data": {
            "text/plain": [
              "2.5"
            ]
          },
          "metadata": {},
          "execution_count": 18
        }
      ]
    },
    {
      "cell_type": "code",
      "source": [
        "array"
      ],
      "metadata": {
        "colab": {
          "base_uri": "https://localhost:8080/"
        },
        "id": "GVYXpimGVlIN",
        "outputId": "1ada2ef4-e225-41d9-9998-7f63addfea66"
      },
      "execution_count": 20,
      "outputs": [
        {
          "output_type": "execute_result",
          "data": {
            "text/plain": [
              "array([[ 0.06547503, -1.41651042,  0.19080865, -1.72282069],\n",
              "       [ 0.10283822, -0.59296271,  0.79903305,  1.08487796],\n",
              "       [ 1.79844809, -2.00457791,  1.28355016,  1.92997766],\n",
              "       [-0.5444145 ,  0.13541963, -0.94300604,  1.24097162],\n",
              "       [ 0.17255028,  0.6563819 ,  0.47840455, -0.87840983]])"
            ]
          },
          "metadata": {},
          "execution_count": 20
        }
      ]
    },
    {
      "cell_type": "code",
      "source": [
        "np.mean(array)"
      ],
      "metadata": {
        "colab": {
          "base_uri": "https://localhost:8080/"
        },
        "id": "I47WUdNEV3S7",
        "outputId": "21184fb7-b310-44ea-f861-bb6de63212c3"
      },
      "execution_count": 21,
      "outputs": [
        {
          "output_type": "execute_result",
          "data": {
            "text/plain": [
              "0.09180173465636687"
            ]
          },
          "metadata": {},
          "execution_count": 21
        }
      ]
    },
    {
      "cell_type": "code",
      "source": [
        "array.sum()/array.size"
      ],
      "metadata": {
        "colab": {
          "base_uri": "https://localhost:8080/"
        },
        "id": "VrHcNGNgV6U7",
        "outputId": "bc525da8-995a-4464-c5a1-431e2158057c"
      },
      "execution_count": 22,
      "outputs": [
        {
          "output_type": "execute_result",
          "data": {
            "text/plain": [
              "0.09180173465636687"
            ]
          },
          "metadata": {},
          "execution_count": 22
        }
      ]
    },
    {
      "cell_type": "code",
      "source": [
        "np.sum(array,axis = 1) # mean of raws of an array"
      ],
      "metadata": {
        "colab": {
          "base_uri": "https://localhost:8080/"
        },
        "id": "vskyqz6WWDTj",
        "outputId": "7dba4d86-f6d6-44be-9fd6-7692df49b198"
      },
      "execution_count": 23,
      "outputs": [
        {
          "output_type": "execute_result",
          "data": {
            "text/plain": [
              "array([-2.88304744,  1.39378652,  3.007398  , -0.11102929,  0.4289269 ])"
            ]
          },
          "metadata": {},
          "execution_count": 23
        }
      ]
    },
    {
      "cell_type": "code",
      "source": [
        "np.sum(array,axis = 0) # mean of colums of an array"
      ],
      "metadata": {
        "colab": {
          "base_uri": "https://localhost:8080/"
        },
        "id": "sgU-xqDGWT7i",
        "outputId": "28458d61-b35f-439e-89b0-1ea43f18f228"
      },
      "execution_count": 24,
      "outputs": [
        {
          "output_type": "execute_result",
          "data": {
            "text/plain": [
              "array([ 1.59489711, -3.22224951,  1.80879038,  1.65459671])"
            ]
          },
          "metadata": {},
          "execution_count": 24
        }
      ]
    },
    {
      "cell_type": "code",
      "source": [
        "# cumsum method\n",
        "data"
      ],
      "metadata": {
        "colab": {
          "base_uri": "https://localhost:8080/"
        },
        "id": "jrB6dULkWYEA",
        "outputId": "ca5222a6-807f-4f91-ed1a-602ba820c8a3"
      },
      "execution_count": 25,
      "outputs": [
        {
          "output_type": "execute_result",
          "data": {
            "text/plain": [
              "array([0, 1, 2, 3, 4, 5])"
            ]
          },
          "metadata": {},
          "execution_count": 25
        }
      ]
    },
    {
      "cell_type": "code",
      "source": [
        "data.cumsum()"
      ],
      "metadata": {
        "colab": {
          "base_uri": "https://localhost:8080/"
        },
        "id": "WsPWlp-iW4yv",
        "outputId": "753b953c-1659-4e49-b701-90f814f8a2fb"
      },
      "execution_count": 26,
      "outputs": [
        {
          "output_type": "execute_result",
          "data": {
            "text/plain": [
              "array([ 0,  1,  3,  6, 10, 15])"
            ]
          },
          "metadata": {},
          "execution_count": 26
        }
      ]
    },
    {
      "cell_type": "markdown",
      "source": [
        "# Numpy Sorting"
      ],
      "metadata": {
        "id": "bHsdGAg3Xa2r"
      }
    },
    {
      "cell_type": "code",
      "source": [
        "arr = np.random.rand(4) # rand function returns random numbers between 0 and 1\n",
        "arr"
      ],
      "metadata": {
        "colab": {
          "base_uri": "https://localhost:8080/"
        },
        "id": "fgCewHWRXH-0",
        "outputId": "cc864e97-61e9-418c-c43f-9c45863f879b"
      },
      "execution_count": 28,
      "outputs": [
        {
          "output_type": "execute_result",
          "data": {
            "text/plain": [
              "array([0.53743935, 0.50345105, 0.04476995, 0.79381227])"
            ]
          },
          "metadata": {},
          "execution_count": 28
        }
      ]
    },
    {
      "cell_type": "code",
      "source": [
        "# sort function\n",
        "arr.sort()\n",
        "arr"
      ],
      "metadata": {
        "colab": {
          "base_uri": "https://localhost:8080/"
        },
        "id": "SgDezm_OXtx8",
        "outputId": "543fa007-f278-454c-97de-adfd79f22fbe"
      },
      "execution_count": 30,
      "outputs": [
        {
          "output_type": "execute_result",
          "data": {
            "text/plain": [
              "array([0.04476995, 0.50345105, 0.53743935, 0.79381227])"
            ]
          },
          "metadata": {},
          "execution_count": 30
        }
      ]
    },
    {
      "cell_type": "code",
      "source": [
        "sorted_arr = np.sort(arr)\n",
        "sorted_arr"
      ],
      "metadata": {
        "colab": {
          "base_uri": "https://localhost:8080/"
        },
        "id": "_IbWbGfjX3wQ",
        "outputId": "1c894aeb-f68d-43c5-bba4-ee46c42b452a"
      },
      "execution_count": 31,
      "outputs": [
        {
          "output_type": "execute_result",
          "data": {
            "text/plain": [
              "array([0.04476995, 0.50345105, 0.53743935, 0.79381227])"
            ]
          },
          "metadata": {},
          "execution_count": 31
        }
      ]
    },
    {
      "cell_type": "code",
      "source": [
        "#reverse sorting\n",
        "-np.sort(-arr)"
      ],
      "metadata": {
        "colab": {
          "base_uri": "https://localhost:8080/"
        },
        "id": "Vk5qFH9nYGtZ",
        "outputId": "9595f2a7-de9d-42d3-cde8-bfaf750e7b70"
      },
      "execution_count": 36,
      "outputs": [
        {
          "output_type": "execute_result",
          "data": {
            "text/plain": [
              "array([0.79381227, 0.53743935, 0.50345105, 0.04476995])"
            ]
          },
          "metadata": {},
          "execution_count": 36
        }
      ]
    },
    {
      "cell_type": "code",
      "source": [
        "# 2d array\n",
        "arr2 = np.random.randn(2,4)\n",
        "arr2"
      ],
      "metadata": {
        "colab": {
          "base_uri": "https://localhost:8080/"
        },
        "id": "iYWpRyM1Yf1j",
        "outputId": "5d8af5b1-fd2c-458e-8f00-caca0ae45a94"
      },
      "execution_count": 37,
      "outputs": [
        {
          "output_type": "execute_result",
          "data": {
            "text/plain": [
              "array([[-1.04949116, -0.55972945, -0.37490533, -1.07664935],\n",
              "       [ 0.38319087,  0.97253636, -0.70585618, -0.14422135]])"
            ]
          },
          "metadata": {},
          "execution_count": 37
        }
      ]
    },
    {
      "cell_type": "code",
      "source": [
        "# sorting by raw\n",
        "np.sort(arr2,axis = 1)"
      ],
      "metadata": {
        "colab": {
          "base_uri": "https://localhost:8080/"
        },
        "id": "KlUQrYroZJp5",
        "outputId": "42570465-2f30-4179-fcfc-aa81134a34bb"
      },
      "execution_count": 38,
      "outputs": [
        {
          "output_type": "execute_result",
          "data": {
            "text/plain": [
              "array([[-1.07664935, -1.04949116, -0.55972945, -0.37490533],\n",
              "       [-0.70585618, -0.14422135,  0.38319087,  0.97253636]])"
            ]
          },
          "metadata": {},
          "execution_count": 38
        }
      ]
    },
    {
      "cell_type": "code",
      "source": [
        "# sorting by column\n",
        "np.sort(arr2,axis = 0)"
      ],
      "metadata": {
        "colab": {
          "base_uri": "https://localhost:8080/"
        },
        "id": "V87LymCZaC8z",
        "outputId": "8122e4e7-8e64-4ab3-cd78-06be293080ac"
      },
      "execution_count": 39,
      "outputs": [
        {
          "output_type": "execute_result",
          "data": {
            "text/plain": [
              "array([[-1.04949116, -0.55972945, -0.70585618, -1.07664935],\n",
              "       [ 0.38319087,  0.97253636, -0.37490533, -0.14422135]])"
            ]
          },
          "metadata": {},
          "execution_count": 39
        }
      ]
    },
    {
      "cell_type": "code",
      "source": [
        "# unique method\n",
        "names = np.array([\"shohruh\",\"mirsaid\",\"sarvar\",\"miron\",\"shohruh\",\"sarvar\"])\n",
        "ints = np.array([2,2,2,3,3,3,1,1,4,4])"
      ],
      "metadata": {
        "id": "ysexp0tbaKsK"
      },
      "execution_count": 40,
      "outputs": []
    },
    {
      "cell_type": "code",
      "source": [
        "np.unique(names) # unique method will return unique items in an array in sorted order"
      ],
      "metadata": {
        "colab": {
          "base_uri": "https://localhost:8080/"
        },
        "id": "mZ-FgVaSbL1G",
        "outputId": "147c351f-7e6f-4020-db5b-c473bb563132"
      },
      "execution_count": 42,
      "outputs": [
        {
          "output_type": "execute_result",
          "data": {
            "text/plain": [
              "array(['miron', 'mirsaid', 'sarvar', 'shohruh'], dtype='<U7')"
            ]
          },
          "metadata": {},
          "execution_count": 42
        }
      ]
    },
    {
      "cell_type": "code",
      "source": [
        "# in1d method\n",
        "ar1 = np.array([1,2,3,4,5,6])\n",
        "ar2 = np.array([0,1,2,3])\n"
      ],
      "metadata": {
        "id": "wSW3l2PIbPkN"
      },
      "execution_count": 45,
      "outputs": []
    },
    {
      "cell_type": "code",
      "source": [
        "np.in1d(ar1,ar2) # in1d function returns true if the element of array 1 in array2, else false"
      ],
      "metadata": {
        "colab": {
          "base_uri": "https://localhost:8080/"
        },
        "id": "wlPF1oKpcEFZ",
        "outputId": "2a600911-b8e3-4ba0-9e07-a030fee5b9a7"
      },
      "execution_count": 46,
      "outputs": [
        {
          "output_type": "execute_result",
          "data": {
            "text/plain": [
              "array([ True,  True,  True, False, False, False])"
            ]
          },
          "metadata": {},
          "execution_count": 46
        }
      ]
    },
    {
      "cell_type": "code",
      "source": [
        "# setdiff1d method\n",
        "names1 = np.array([\"shohruh\",\"miron\",\"mirsaid\",\"doston\",\"elbek\"])\n",
        "names2 = np.array([\"shohruh\",\"miron\",\"mirsaid\"])\n"
      ],
      "metadata": {
        "id": "EOfqvxPzcJq_"
      },
      "execution_count": 49,
      "outputs": []
    },
    {
      "cell_type": "code",
      "source": [
        "np.setdiff1d(names1,names2) # setdiff1d function returns elements in names1 which are not in names2"
      ],
      "metadata": {
        "colab": {
          "base_uri": "https://localhost:8080/"
        },
        "id": "OlyJ8NWFdyDf",
        "outputId": "0cb9b4f0-c2cd-4d9d-b63a-4605755998aa"
      },
      "execution_count": 50,
      "outputs": [
        {
          "output_type": "execute_result",
          "data": {
            "text/plain": [
              "array(['doston', 'elbek'], dtype='<U7')"
            ]
          },
          "metadata": {},
          "execution_count": 50
        }
      ]
    },
    {
      "cell_type": "markdown",
      "source": [
        "# Working with files in numpy"
      ],
      "metadata": {
        "id": "_l-kgnQpfKfy"
      }
    },
    {
      "cell_type": "code",
      "source": [
        "array1 = np.arange(10)\n",
        "array1"
      ],
      "metadata": {
        "colab": {
          "base_uri": "https://localhost:8080/"
        },
        "id": "5UbEhmXFd7CD",
        "outputId": "835f93f9-e57f-49a4-800e-6c101a5d3099"
      },
      "execution_count": 51,
      "outputs": [
        {
          "output_type": "execute_result",
          "data": {
            "text/plain": [
              "array([0, 1, 2, 3, 4, 5, 6, 7, 8, 9])"
            ]
          },
          "metadata": {},
          "execution_count": 51
        }
      ]
    },
    {
      "cell_type": "code",
      "source": [
        "np.save(\"data\",array1)"
      ],
      "metadata": {
        "id": "zmGZ0RUVfVIp"
      },
      "execution_count": 52,
      "outputs": []
    },
    {
      "cell_type": "code",
      "source": [
        "arr2 = np.load(\"data.npy\")\n",
        "arr2"
      ],
      "metadata": {
        "colab": {
          "base_uri": "https://localhost:8080/"
        },
        "id": "A3V_U2tZgXmk",
        "outputId": "fdc0fbb9-e063-4c12-b9ff-c613cedc2656"
      },
      "execution_count": 54,
      "outputs": [
        {
          "output_type": "execute_result",
          "data": {
            "text/plain": [
              "array([0, 1, 2, 3, 4, 5, 6, 7, 8, 9])"
            ]
          },
          "metadata": {},
          "execution_count": 54
        }
      ]
    },
    {
      "cell_type": "code",
      "source": [
        "np.savez(\"arrays\",a = array1,b = arr2)"
      ],
      "metadata": {
        "id": "gyna6yLsgkv-"
      },
      "execution_count": 55,
      "outputs": []
    },
    {
      "cell_type": "code",
      "source": [
        "arrays = np.load(\"arrays.npz\")"
      ],
      "metadata": {
        "id": "949QNCB0hJOS"
      },
      "execution_count": 56,
      "outputs": []
    },
    {
      "cell_type": "code",
      "source": [
        "arrays['a']"
      ],
      "metadata": {
        "colab": {
          "base_uri": "https://localhost:8080/"
        },
        "id": "P9Qyb1rqhkfL",
        "outputId": "b9f6ec06-aec3-4dfa-b056-ffb7d9cac813"
      },
      "execution_count": 57,
      "outputs": [
        {
          "output_type": "execute_result",
          "data": {
            "text/plain": [
              "array([0, 1, 2, 3, 4, 5, 6, 7, 8, 9])"
            ]
          },
          "metadata": {},
          "execution_count": 57
        }
      ]
    },
    {
      "cell_type": "code",
      "source": [
        "arrays[\"b\"]"
      ],
      "metadata": {
        "colab": {
          "base_uri": "https://localhost:8080/"
        },
        "id": "8Oe620jrhnjy",
        "outputId": "af12bde3-668b-412f-dcc3-c98ed4526663"
      },
      "execution_count": 58,
      "outputs": [
        {
          "output_type": "execute_result",
          "data": {
            "text/plain": [
              "array([0, 1, 2, 3, 4, 5, 6, 7, 8, 9])"
            ]
          },
          "metadata": {},
          "execution_count": 58
        }
      ]
    },
    {
      "cell_type": "code",
      "source": [
        "np.savez_compressed('arrays_comp',a = array1, b = arr2)"
      ],
      "metadata": {
        "id": "4YRXXUnEhpk6"
      },
      "execution_count": 59,
      "outputs": []
    },
    {
      "cell_type": "markdown",
      "source": [
        "# linier algebra\n",
        "-   matrices"
      ],
      "metadata": {
        "id": "usapxItWisFH"
      }
    },
    {
      "cell_type": "code",
      "source": [
        "x = np.array([[1,2,3],[4,5,6]])\n",
        "x"
      ],
      "metadata": {
        "colab": {
          "base_uri": "https://localhost:8080/"
        },
        "id": "FrGB13FgiCvs",
        "outputId": "3427bb29-7389-4f7d-80bf-e31ad06dbd7f"
      },
      "execution_count": 60,
      "outputs": [
        {
          "output_type": "execute_result",
          "data": {
            "text/plain": [
              "array([[1, 2, 3],\n",
              "       [4, 5, 6]])"
            ]
          },
          "metadata": {},
          "execution_count": 60
        }
      ]
    },
    {
      "cell_type": "code",
      "source": [
        "y = np.array([[7,8,9],[1,2,3]])\n",
        "y"
      ],
      "metadata": {
        "colab": {
          "base_uri": "https://localhost:8080/"
        },
        "id": "mtViu1Jii5tm",
        "outputId": "1e336916-534e-4f6f-9f45-7285b4a7d501"
      },
      "execution_count": 62,
      "outputs": [
        {
          "output_type": "execute_result",
          "data": {
            "text/plain": [
              "array([[7, 8, 9],\n",
              "       [1, 2, 3]])"
            ]
          },
          "metadata": {},
          "execution_count": 62
        }
      ]
    },
    {
      "cell_type": "code",
      "source": [
        "# adding\n",
        "x + y"
      ],
      "metadata": {
        "colab": {
          "base_uri": "https://localhost:8080/"
        },
        "id": "tycrTq0sjAUQ",
        "outputId": "1e054914-f8f0-4bcc-dc94-55e3738d5018"
      },
      "execution_count": 63,
      "outputs": [
        {
          "output_type": "execute_result",
          "data": {
            "text/plain": [
              "array([[ 8, 10, 12],\n",
              "       [ 5,  7,  9]])"
            ]
          },
          "metadata": {},
          "execution_count": 63
        }
      ]
    },
    {
      "cell_type": "code",
      "source": [
        "# subtracting\n",
        "y-x"
      ],
      "metadata": {
        "colab": {
          "base_uri": "https://localhost:8080/"
        },
        "id": "PHqCq1bujMLO",
        "outputId": "c963e684-2846-4a42-e65d-3aaa0a542e07"
      },
      "execution_count": 64,
      "outputs": [
        {
          "output_type": "execute_result",
          "data": {
            "text/plain": [
              "array([[ 6,  6,  6],\n",
              "       [-3, -3, -3]])"
            ]
          },
          "metadata": {},
          "execution_count": 64
        }
      ]
    },
    {
      "cell_type": "code",
      "source": [
        "x"
      ],
      "metadata": {
        "colab": {
          "base_uri": "https://localhost:8080/"
        },
        "id": "t-1prPjGjPkY",
        "outputId": "4db5d2ed-1303-4558-8cb4-c03c06a03872"
      },
      "execution_count": 65,
      "outputs": [
        {
          "output_type": "execute_result",
          "data": {
            "text/plain": [
              "array([[1, 2, 3],\n",
              "       [4, 5, 6]])"
            ]
          },
          "metadata": {},
          "execution_count": 65
        }
      ]
    },
    {
      "cell_type": "code",
      "source": [
        "y = np.array([[1,2],[4,5],[8,0]])\n",
        "y"
      ],
      "metadata": {
        "colab": {
          "base_uri": "https://localhost:8080/"
        },
        "id": "6sUhGwmCjyPS",
        "outputId": "0e495b79-b3b1-4a7b-ad46-f1a11d1e1c94"
      },
      "execution_count": 66,
      "outputs": [
        {
          "output_type": "execute_result",
          "data": {
            "text/plain": [
              "array([[1, 2],\n",
              "       [4, 5],\n",
              "       [8, 0]])"
            ]
          },
          "metadata": {},
          "execution_count": 66
        }
      ]
    },
    {
      "cell_type": "code",
      "source": [
        "#multiplying\n",
        "x.dot(y)"
      ],
      "metadata": {
        "colab": {
          "base_uri": "https://localhost:8080/"
        },
        "id": "BePDv5rRj8qv",
        "outputId": "81c44085-42c5-44ec-d60d-80d7af643578"
      },
      "execution_count": 67,
      "outputs": [
        {
          "output_type": "execute_result",
          "data": {
            "text/plain": [
              "array([[33, 12],\n",
              "       [72, 33]])"
            ]
          },
          "metadata": {},
          "execution_count": 67
        }
      ]
    },
    {
      "cell_type": "code",
      "source": [
        "np.dot(x,y)"
      ],
      "metadata": {
        "colab": {
          "base_uri": "https://localhost:8080/"
        },
        "id": "E6P2hZR5j-n7",
        "outputId": "4703064f-1759-4449-9394-78196529d5ee"
      },
      "execution_count": 68,
      "outputs": [
        {
          "output_type": "execute_result",
          "data": {
            "text/plain": [
              "array([[33, 12],\n",
              "       [72, 33]])"
            ]
          },
          "metadata": {},
          "execution_count": 68
        }
      ]
    },
    {
      "cell_type": "code",
      "source": [
        "np.dot(y,x)"
      ],
      "metadata": {
        "colab": {
          "base_uri": "https://localhost:8080/"
        },
        "id": "pYj5LM2LkPp2",
        "outputId": "670385f3-b878-4de3-db4f-6e70bf372d65"
      },
      "execution_count": 69,
      "outputs": [
        {
          "output_type": "execute_result",
          "data": {
            "text/plain": [
              "array([[ 9, 12, 15],\n",
              "       [24, 33, 42],\n",
              "       [ 8, 16, 24]])"
            ]
          },
          "metadata": {},
          "execution_count": 69
        }
      ]
    },
    {
      "cell_type": "code",
      "source": [
        "a = np.arange(0,10,2)\n",
        "a+1"
      ],
      "metadata": {
        "colab": {
          "base_uri": "https://localhost:8080/"
        },
        "id": "skTU2ldPkSuV",
        "outputId": "1b729e2a-8d1f-4558-f05f-c837798bc227"
      },
      "execution_count": 72,
      "outputs": [
        {
          "output_type": "execute_result",
          "data": {
            "text/plain": [
              "array([1, 3, 5, 7, 9])"
            ]
          },
          "metadata": {},
          "execution_count": 72
        }
      ]
    },
    {
      "cell_type": "code",
      "source": [],
      "metadata": {
        "id": "cv7aVh-ynza3"
      },
      "execution_count": null,
      "outputs": []
    }
  ]
}