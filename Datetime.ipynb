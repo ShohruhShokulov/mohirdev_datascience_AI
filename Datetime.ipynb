{
  "metadata": {
    "kernelspec": {
      "language": "python",
      "display_name": "Python 3",
      "name": "python3"
    },
    "language_info": {
      "name": "python",
      "version": "3.10.13",
      "mimetype": "text/x-python",
      "codemirror_mode": {
        "name": "ipython",
        "version": 3
      },
      "pygments_lexer": "ipython3",
      "nbconvert_exporter": "python",
      "file_extension": ".py"
    },
    "kaggle": {
      "accelerator": "none",
      "dataSources": [
        {
          "sourceId": 6423640,
          "sourceType": "datasetVersion",
          "datasetId": 2941956
        }
      ],
      "dockerImageVersionId": 30673,
      "isInternetEnabled": false,
      "language": "python",
      "sourceType": "notebook",
      "isGpuEnabled": false
    },
    "colab": {
      "provenance": [],
      "include_colab_link": true
    }
  },
  "nbformat_minor": 0,
  "nbformat": 4,
  "cells": [
    {
      "cell_type": "markdown",
      "metadata": {
        "id": "view-in-github",
        "colab_type": "text"
      },
      "source": [
        "<a href=\"https://colab.research.google.com/github/ShohruhShokulov/mohirdev_datascience_AI/blob/main/Datetime.ipynb\" target=\"_parent\"><img src=\"https://colab.research.google.com/assets/colab-badge.svg\" alt=\"Open In Colab\"/></a>"
      ]
    },
    {
      "cell_type": "code",
      "source": [
        "# This Python 3 environment comes with many helpful analytics libraries installed\n",
        "# It is defined by the kaggle/python Docker image: https://github.com/kaggle/docker-python\n",
        "# For example, here's several helpful packages to load\n",
        "\n",
        "import numpy as np # linear algebra\n",
        "import pandas as pd # data processing, CSV file I/O (e.g. pd.read_csv)\n",
        "\n",
        "# Input data files are available in the read-only \"../input/\" directory\n",
        "# For example, running this (by clicking run or pressing Shift+Enter) will list all files under the input directory\n",
        "\n",
        "import os\n",
        "for dirname, _, filenames in os.walk('/kaggle/input'):\n",
        "    for filename in filenames:\n",
        "        print(os.path.join(dirname, filename))\n",
        "\n",
        "# You can write up to 20GB to the current directory (/kaggle/working/) that gets preserved as output when you create a version using \"Save & Run All\"\n",
        "# You can also write temporary files to /kaggle/temp/, but they won't be saved outside of the current session"
      ],
      "metadata": {
        "_uuid": "8f2839f25d086af736a60e9eeb907d3b93b6e0e5",
        "_cell_guid": "b1076dfc-b9ad-4769-8c92-a6c4dae69d19",
        "execution": {
          "iopub.status.busy": "2024-03-22T16:09:04.085686Z",
          "iopub.execute_input": "2024-03-22T16:09:04.086115Z",
          "iopub.status.idle": "2024-03-22T16:09:05.37322Z",
          "shell.execute_reply.started": "2024-03-22T16:09:04.086082Z",
          "shell.execute_reply": "2024-03-22T16:09:05.372015Z"
        },
        "trusted": true,
        "id": "dUuSYFQBC5uE"
      },
      "execution_count": null,
      "outputs": []
    },
    {
      "cell_type": "code",
      "source": [
        "df = pd.read_csv(\"/kaggle/input/earthquake-dataset/earthquake_data.csv\")\n",
        "df.head()"
      ],
      "metadata": {
        "execution": {
          "iopub.status.busy": "2024-03-22T16:10:44.399979Z",
          "iopub.execute_input": "2024-03-22T16:10:44.400611Z",
          "iopub.status.idle": "2024-03-22T16:10:44.434355Z",
          "shell.execute_reply.started": "2024-03-22T16:10:44.400579Z",
          "shell.execute_reply": "2024-03-22T16:10:44.433409Z"
        },
        "trusted": true,
        "id": "mfrxtOnaC5uF",
        "outputId": "7e3055ca-d4c3-4d99-8b58-87b1652d4684",
        "colab": {
          "base_uri": "https://localhost:8080/",
          "height": 304
        }
      },
      "execution_count": null,
      "outputs": [
        {
          "output_type": "error",
          "ename": "FileNotFoundError",
          "evalue": "[Errno 2] No such file or directory: '/kaggle/input/earthquake-dataset/earthquake_data.csv'",
          "traceback": [
            "\u001b[0;31m---------------------------------------------------------------------------\u001b[0m",
            "\u001b[0;31mFileNotFoundError\u001b[0m                         Traceback (most recent call last)",
            "\u001b[0;32m<ipython-input-2-c7878f2415a7>\u001b[0m in \u001b[0;36m<cell line: 1>\u001b[0;34m()\u001b[0m\n\u001b[0;32m----> 1\u001b[0;31m \u001b[0mdf\u001b[0m \u001b[0;34m=\u001b[0m \u001b[0mpd\u001b[0m\u001b[0;34m.\u001b[0m\u001b[0mread_csv\u001b[0m\u001b[0;34m(\u001b[0m\u001b[0;34m\"/kaggle/input/earthquake-dataset/earthquake_data.csv\"\u001b[0m\u001b[0;34m)\u001b[0m\u001b[0;34m\u001b[0m\u001b[0;34m\u001b[0m\u001b[0m\n\u001b[0m\u001b[1;32m      2\u001b[0m \u001b[0mdf\u001b[0m\u001b[0;34m.\u001b[0m\u001b[0mhead\u001b[0m\u001b[0;34m(\u001b[0m\u001b[0;34m)\u001b[0m\u001b[0;34m\u001b[0m\u001b[0;34m\u001b[0m\u001b[0m\n",
            "\u001b[0;32m/usr/local/lib/python3.10/dist-packages/pandas/util/_decorators.py\u001b[0m in \u001b[0;36mwrapper\u001b[0;34m(*args, **kwargs)\u001b[0m\n\u001b[1;32m    209\u001b[0m                 \u001b[0;32melse\u001b[0m\u001b[0;34m:\u001b[0m\u001b[0;34m\u001b[0m\u001b[0;34m\u001b[0m\u001b[0m\n\u001b[1;32m    210\u001b[0m                     \u001b[0mkwargs\u001b[0m\u001b[0;34m[\u001b[0m\u001b[0mnew_arg_name\u001b[0m\u001b[0;34m]\u001b[0m \u001b[0;34m=\u001b[0m \u001b[0mnew_arg_value\u001b[0m\u001b[0;34m\u001b[0m\u001b[0;34m\u001b[0m\u001b[0m\n\u001b[0;32m--> 211\u001b[0;31m             \u001b[0;32mreturn\u001b[0m \u001b[0mfunc\u001b[0m\u001b[0;34m(\u001b[0m\u001b[0;34m*\u001b[0m\u001b[0margs\u001b[0m\u001b[0;34m,\u001b[0m \u001b[0;34m**\u001b[0m\u001b[0mkwargs\u001b[0m\u001b[0;34m)\u001b[0m\u001b[0;34m\u001b[0m\u001b[0;34m\u001b[0m\u001b[0m\n\u001b[0m\u001b[1;32m    212\u001b[0m \u001b[0;34m\u001b[0m\u001b[0m\n\u001b[1;32m    213\u001b[0m         \u001b[0;32mreturn\u001b[0m \u001b[0mcast\u001b[0m\u001b[0;34m(\u001b[0m\u001b[0mF\u001b[0m\u001b[0;34m,\u001b[0m \u001b[0mwrapper\u001b[0m\u001b[0;34m)\u001b[0m\u001b[0;34m\u001b[0m\u001b[0;34m\u001b[0m\u001b[0m\n",
            "\u001b[0;32m/usr/local/lib/python3.10/dist-packages/pandas/util/_decorators.py\u001b[0m in \u001b[0;36mwrapper\u001b[0;34m(*args, **kwargs)\u001b[0m\n\u001b[1;32m    329\u001b[0m                     \u001b[0mstacklevel\u001b[0m\u001b[0;34m=\u001b[0m\u001b[0mfind_stack_level\u001b[0m\u001b[0;34m(\u001b[0m\u001b[0;34m)\u001b[0m\u001b[0;34m,\u001b[0m\u001b[0;34m\u001b[0m\u001b[0;34m\u001b[0m\u001b[0m\n\u001b[1;32m    330\u001b[0m                 )\n\u001b[0;32m--> 331\u001b[0;31m             \u001b[0;32mreturn\u001b[0m \u001b[0mfunc\u001b[0m\u001b[0;34m(\u001b[0m\u001b[0;34m*\u001b[0m\u001b[0margs\u001b[0m\u001b[0;34m,\u001b[0m \u001b[0;34m**\u001b[0m\u001b[0mkwargs\u001b[0m\u001b[0;34m)\u001b[0m\u001b[0;34m\u001b[0m\u001b[0;34m\u001b[0m\u001b[0m\n\u001b[0m\u001b[1;32m    332\u001b[0m \u001b[0;34m\u001b[0m\u001b[0m\n\u001b[1;32m    333\u001b[0m         \u001b[0;31m# error: \"Callable[[VarArg(Any), KwArg(Any)], Any]\" has no\u001b[0m\u001b[0;34m\u001b[0m\u001b[0;34m\u001b[0m\u001b[0m\n",
            "\u001b[0;32m/usr/local/lib/python3.10/dist-packages/pandas/io/parsers/readers.py\u001b[0m in \u001b[0;36mread_csv\u001b[0;34m(filepath_or_buffer, sep, delimiter, header, names, index_col, usecols, squeeze, prefix, mangle_dupe_cols, dtype, engine, converters, true_values, false_values, skipinitialspace, skiprows, skipfooter, nrows, na_values, keep_default_na, na_filter, verbose, skip_blank_lines, parse_dates, infer_datetime_format, keep_date_col, date_parser, dayfirst, cache_dates, iterator, chunksize, compression, thousands, decimal, lineterminator, quotechar, quoting, doublequote, escapechar, comment, encoding, encoding_errors, dialect, error_bad_lines, warn_bad_lines, on_bad_lines, delim_whitespace, low_memory, memory_map, float_precision, storage_options)\u001b[0m\n\u001b[1;32m    948\u001b[0m     \u001b[0mkwds\u001b[0m\u001b[0;34m.\u001b[0m\u001b[0mupdate\u001b[0m\u001b[0;34m(\u001b[0m\u001b[0mkwds_defaults\u001b[0m\u001b[0;34m)\u001b[0m\u001b[0;34m\u001b[0m\u001b[0;34m\u001b[0m\u001b[0m\n\u001b[1;32m    949\u001b[0m \u001b[0;34m\u001b[0m\u001b[0m\n\u001b[0;32m--> 950\u001b[0;31m     \u001b[0;32mreturn\u001b[0m \u001b[0m_read\u001b[0m\u001b[0;34m(\u001b[0m\u001b[0mfilepath_or_buffer\u001b[0m\u001b[0;34m,\u001b[0m \u001b[0mkwds\u001b[0m\u001b[0;34m)\u001b[0m\u001b[0;34m\u001b[0m\u001b[0;34m\u001b[0m\u001b[0m\n\u001b[0m\u001b[1;32m    951\u001b[0m \u001b[0;34m\u001b[0m\u001b[0m\n\u001b[1;32m    952\u001b[0m \u001b[0;34m\u001b[0m\u001b[0m\n",
            "\u001b[0;32m/usr/local/lib/python3.10/dist-packages/pandas/io/parsers/readers.py\u001b[0m in \u001b[0;36m_read\u001b[0;34m(filepath_or_buffer, kwds)\u001b[0m\n\u001b[1;32m    603\u001b[0m \u001b[0;34m\u001b[0m\u001b[0m\n\u001b[1;32m    604\u001b[0m     \u001b[0;31m# Create the parser.\u001b[0m\u001b[0;34m\u001b[0m\u001b[0;34m\u001b[0m\u001b[0m\n\u001b[0;32m--> 605\u001b[0;31m     \u001b[0mparser\u001b[0m \u001b[0;34m=\u001b[0m \u001b[0mTextFileReader\u001b[0m\u001b[0;34m(\u001b[0m\u001b[0mfilepath_or_buffer\u001b[0m\u001b[0;34m,\u001b[0m \u001b[0;34m**\u001b[0m\u001b[0mkwds\u001b[0m\u001b[0;34m)\u001b[0m\u001b[0;34m\u001b[0m\u001b[0;34m\u001b[0m\u001b[0m\n\u001b[0m\u001b[1;32m    606\u001b[0m \u001b[0;34m\u001b[0m\u001b[0m\n\u001b[1;32m    607\u001b[0m     \u001b[0;32mif\u001b[0m \u001b[0mchunksize\u001b[0m \u001b[0;32mor\u001b[0m \u001b[0miterator\u001b[0m\u001b[0;34m:\u001b[0m\u001b[0;34m\u001b[0m\u001b[0;34m\u001b[0m\u001b[0m\n",
            "\u001b[0;32m/usr/local/lib/python3.10/dist-packages/pandas/io/parsers/readers.py\u001b[0m in \u001b[0;36m__init__\u001b[0;34m(self, f, engine, **kwds)\u001b[0m\n\u001b[1;32m   1440\u001b[0m \u001b[0;34m\u001b[0m\u001b[0m\n\u001b[1;32m   1441\u001b[0m         \u001b[0mself\u001b[0m\u001b[0;34m.\u001b[0m\u001b[0mhandles\u001b[0m\u001b[0;34m:\u001b[0m \u001b[0mIOHandles\u001b[0m \u001b[0;34m|\u001b[0m \u001b[0;32mNone\u001b[0m \u001b[0;34m=\u001b[0m \u001b[0;32mNone\u001b[0m\u001b[0;34m\u001b[0m\u001b[0;34m\u001b[0m\u001b[0m\n\u001b[0;32m-> 1442\u001b[0;31m         \u001b[0mself\u001b[0m\u001b[0;34m.\u001b[0m\u001b[0m_engine\u001b[0m \u001b[0;34m=\u001b[0m \u001b[0mself\u001b[0m\u001b[0;34m.\u001b[0m\u001b[0m_make_engine\u001b[0m\u001b[0;34m(\u001b[0m\u001b[0mf\u001b[0m\u001b[0;34m,\u001b[0m \u001b[0mself\u001b[0m\u001b[0;34m.\u001b[0m\u001b[0mengine\u001b[0m\u001b[0;34m)\u001b[0m\u001b[0;34m\u001b[0m\u001b[0;34m\u001b[0m\u001b[0m\n\u001b[0m\u001b[1;32m   1443\u001b[0m \u001b[0;34m\u001b[0m\u001b[0m\n\u001b[1;32m   1444\u001b[0m     \u001b[0;32mdef\u001b[0m \u001b[0mclose\u001b[0m\u001b[0;34m(\u001b[0m\u001b[0mself\u001b[0m\u001b[0;34m)\u001b[0m \u001b[0;34m->\u001b[0m \u001b[0;32mNone\u001b[0m\u001b[0;34m:\u001b[0m\u001b[0;34m\u001b[0m\u001b[0;34m\u001b[0m\u001b[0m\n",
            "\u001b[0;32m/usr/local/lib/python3.10/dist-packages/pandas/io/parsers/readers.py\u001b[0m in \u001b[0;36m_make_engine\u001b[0;34m(self, f, engine)\u001b[0m\n\u001b[1;32m   1733\u001b[0m                 \u001b[0;32mif\u001b[0m \u001b[0;34m\"b\"\u001b[0m \u001b[0;32mnot\u001b[0m \u001b[0;32min\u001b[0m \u001b[0mmode\u001b[0m\u001b[0;34m:\u001b[0m\u001b[0;34m\u001b[0m\u001b[0;34m\u001b[0m\u001b[0m\n\u001b[1;32m   1734\u001b[0m                     \u001b[0mmode\u001b[0m \u001b[0;34m+=\u001b[0m \u001b[0;34m\"b\"\u001b[0m\u001b[0;34m\u001b[0m\u001b[0;34m\u001b[0m\u001b[0m\n\u001b[0;32m-> 1735\u001b[0;31m             self.handles = get_handle(\n\u001b[0m\u001b[1;32m   1736\u001b[0m                 \u001b[0mf\u001b[0m\u001b[0;34m,\u001b[0m\u001b[0;34m\u001b[0m\u001b[0;34m\u001b[0m\u001b[0m\n\u001b[1;32m   1737\u001b[0m                 \u001b[0mmode\u001b[0m\u001b[0;34m,\u001b[0m\u001b[0;34m\u001b[0m\u001b[0;34m\u001b[0m\u001b[0m\n",
            "\u001b[0;32m/usr/local/lib/python3.10/dist-packages/pandas/io/common.py\u001b[0m in \u001b[0;36mget_handle\u001b[0;34m(path_or_buf, mode, encoding, compression, memory_map, is_text, errors, storage_options)\u001b[0m\n\u001b[1;32m    854\u001b[0m         \u001b[0;32mif\u001b[0m \u001b[0mioargs\u001b[0m\u001b[0;34m.\u001b[0m\u001b[0mencoding\u001b[0m \u001b[0;32mand\u001b[0m \u001b[0;34m\"b\"\u001b[0m \u001b[0;32mnot\u001b[0m \u001b[0;32min\u001b[0m \u001b[0mioargs\u001b[0m\u001b[0;34m.\u001b[0m\u001b[0mmode\u001b[0m\u001b[0;34m:\u001b[0m\u001b[0;34m\u001b[0m\u001b[0;34m\u001b[0m\u001b[0m\n\u001b[1;32m    855\u001b[0m             \u001b[0;31m# Encoding\u001b[0m\u001b[0;34m\u001b[0m\u001b[0;34m\u001b[0m\u001b[0m\n\u001b[0;32m--> 856\u001b[0;31m             handle = open(\n\u001b[0m\u001b[1;32m    857\u001b[0m                 \u001b[0mhandle\u001b[0m\u001b[0;34m,\u001b[0m\u001b[0;34m\u001b[0m\u001b[0;34m\u001b[0m\u001b[0m\n\u001b[1;32m    858\u001b[0m                 \u001b[0mioargs\u001b[0m\u001b[0;34m.\u001b[0m\u001b[0mmode\u001b[0m\u001b[0;34m,\u001b[0m\u001b[0;34m\u001b[0m\u001b[0;34m\u001b[0m\u001b[0m\n",
            "\u001b[0;31mFileNotFoundError\u001b[0m: [Errno 2] No such file or directory: '/kaggle/input/earthquake-dataset/earthquake_data.csv'"
          ]
        }
      ]
    },
    {
      "cell_type": "markdown",
      "source": [
        "## Datetime"
      ],
      "metadata": {
        "id": "lOaGTG7CC5uF"
      }
    },
    {
      "cell_type": "code",
      "source": [
        "import datetime as dt"
      ],
      "metadata": {
        "execution": {
          "iopub.status.busy": "2024-03-22T16:12:20.761815Z",
          "iopub.execute_input": "2024-03-22T16:12:20.763243Z",
          "iopub.status.idle": "2024-03-22T16:12:20.76929Z",
          "shell.execute_reply.started": "2024-03-22T16:12:20.76319Z",
          "shell.execute_reply": "2024-03-22T16:12:20.767888Z"
        },
        "trusted": true,
        "id": "pKmWlrpZC5uH"
      },
      "execution_count": null,
      "outputs": []
    },
    {
      "cell_type": "code",
      "source": [
        "now = dt.datetime.now()"
      ],
      "metadata": {
        "execution": {
          "iopub.status.busy": "2024-03-22T16:13:47.406905Z",
          "iopub.execute_input": "2024-03-22T16:13:47.407295Z",
          "iopub.status.idle": "2024-03-22T16:13:47.413422Z",
          "shell.execute_reply.started": "2024-03-22T16:13:47.407268Z",
          "shell.execute_reply": "2024-03-22T16:13:47.412096Z"
        },
        "trusted": true,
        "id": "5fOEjKUaC5uH"
      },
      "execution_count": null,
      "outputs": []
    },
    {
      "cell_type": "code",
      "source": [
        "type(now)"
      ],
      "metadata": {
        "execution": {
          "iopub.status.busy": "2024-03-22T16:13:36.447905Z",
          "iopub.execute_input": "2024-03-22T16:13:36.449156Z",
          "iopub.status.idle": "2024-03-22T16:13:36.456609Z",
          "shell.execute_reply.started": "2024-03-22T16:13:36.449105Z",
          "shell.execute_reply": "2024-03-22T16:13:36.455184Z"
        },
        "trusted": true,
        "id": "OSyxKfqFC5uH",
        "outputId": "2d1318df-d7f0-4cc4-b141-514296b1c45b"
      },
      "execution_count": null,
      "outputs": [
        {
          "execution_count": 10,
          "output_type": "execute_result",
          "data": {
            "text/plain": "datetime.datetime"
          },
          "metadata": {}
        }
      ]
    },
    {
      "cell_type": "code",
      "source": [
        "print(now)"
      ],
      "metadata": {
        "execution": {
          "iopub.status.busy": "2024-03-22T16:13:53.107748Z",
          "iopub.execute_input": "2024-03-22T16:13:53.10821Z",
          "iopub.status.idle": "2024-03-22T16:13:53.114979Z",
          "shell.execute_reply.started": "2024-03-22T16:13:53.10818Z",
          "shell.execute_reply": "2024-03-22T16:13:53.113504Z"
        },
        "trusted": true,
        "id": "OKU5LlXxC5uI",
        "outputId": "4a0b217e-b322-4595-d49a-3e7c4dff8ad9"
      },
      "execution_count": null,
      "outputs": [
        {
          "name": "stdout",
          "text": "2024-03-22 16:13:47.408400\n",
          "output_type": "stream"
        }
      ]
    },
    {
      "cell_type": "code",
      "source": [
        "now.hour"
      ],
      "metadata": {
        "execution": {
          "iopub.status.busy": "2024-03-22T16:14:09.653585Z",
          "iopub.execute_input": "2024-03-22T16:14:09.654322Z",
          "iopub.status.idle": "2024-03-22T16:14:09.660085Z",
          "shell.execute_reply.started": "2024-03-22T16:14:09.654288Z",
          "shell.execute_reply": "2024-03-22T16:14:09.658927Z"
        },
        "trusted": true,
        "id": "GZMz1a0JC5uI",
        "outputId": "93c78c35-adaf-4d4a-a109-c99fe4138d4b"
      },
      "execution_count": null,
      "outputs": [
        {
          "execution_count": 15,
          "output_type": "execute_result",
          "data": {
            "text/plain": "16"
          },
          "metadata": {}
        }
      ]
    },
    {
      "cell_type": "code",
      "source": [
        "now.minute"
      ],
      "metadata": {
        "execution": {
          "iopub.status.busy": "2024-03-22T16:14:19.343985Z",
          "iopub.execute_input": "2024-03-22T16:14:19.344413Z",
          "iopub.status.idle": "2024-03-22T16:14:19.352262Z",
          "shell.execute_reply.started": "2024-03-22T16:14:19.344382Z",
          "shell.execute_reply": "2024-03-22T16:14:19.351044Z"
        },
        "trusted": true,
        "id": "4aywHRBqC5uJ",
        "outputId": "bf3c9e8f-b46f-45f8-8982-60c8db997a38"
      },
      "execution_count": null,
      "outputs": [
        {
          "execution_count": 16,
          "output_type": "execute_result",
          "data": {
            "text/plain": "13"
          },
          "metadata": {}
        }
      ]
    },
    {
      "cell_type": "code",
      "source": [
        "now.weekday()"
      ],
      "metadata": {
        "execution": {
          "iopub.status.busy": "2024-03-22T16:14:33.945736Z",
          "iopub.execute_input": "2024-03-22T16:14:33.946185Z",
          "iopub.status.idle": "2024-03-22T16:14:33.953144Z",
          "shell.execute_reply.started": "2024-03-22T16:14:33.946147Z",
          "shell.execute_reply": "2024-03-22T16:14:33.952006Z"
        },
        "trusted": true,
        "id": "GRF6KSX7C5uJ",
        "outputId": "5299cf97-6c74-4634-cd16-a9d441d034f3"
      },
      "execution_count": null,
      "outputs": [
        {
          "execution_count": 18,
          "output_type": "execute_result",
          "data": {
            "text/plain": "4"
          },
          "metadata": {}
        }
      ]
    },
    {
      "cell_type": "code",
      "source": [
        "now.month"
      ],
      "metadata": {
        "execution": {
          "iopub.status.busy": "2024-03-22T16:14:43.664121Z",
          "iopub.execute_input": "2024-03-22T16:14:43.664483Z",
          "iopub.status.idle": "2024-03-22T16:14:43.672396Z",
          "shell.execute_reply.started": "2024-03-22T16:14:43.664455Z",
          "shell.execute_reply": "2024-03-22T16:14:43.671172Z"
        },
        "trusted": true,
        "id": "zzsHniVxC5uJ",
        "outputId": "51f96903-c32c-400c-97f6-7582da1148d7"
      },
      "execution_count": null,
      "outputs": [
        {
          "execution_count": 19,
          "output_type": "execute_result",
          "data": {
            "text/plain": "3"
          },
          "metadata": {}
        }
      ]
    },
    {
      "cell_type": "code",
      "source": [
        "df.info()"
      ],
      "metadata": {
        "execution": {
          "iopub.status.busy": "2024-03-22T16:15:44.84648Z",
          "iopub.execute_input": "2024-03-22T16:15:44.84699Z",
          "iopub.status.idle": "2024-03-22T16:15:44.882477Z",
          "shell.execute_reply.started": "2024-03-22T16:15:44.846932Z",
          "shell.execute_reply": "2024-03-22T16:15:44.881079Z"
        },
        "trusted": true,
        "id": "M4RxxqnaC5uJ",
        "outputId": "fb17cecb-20c5-4f7c-b087-6a0a84e3912b"
      },
      "execution_count": null,
      "outputs": [
        {
          "name": "stdout",
          "text": "<class 'pandas.core.frame.DataFrame'>\nRangeIndex: 782 entries, 0 to 781\nData columns (total 19 columns):\n #   Column     Non-Null Count  Dtype  \n---  ------     --------------  -----  \n 0   title      782 non-null    object \n 1   magnitude  782 non-null    float64\n 2   date_time  782 non-null    object \n 3   cdi        782 non-null    int64  \n 4   mmi        782 non-null    int64  \n 5   alert      415 non-null    object \n 6   tsunami    782 non-null    int64  \n 7   sig        782 non-null    int64  \n 8   net        782 non-null    object \n 9   nst        782 non-null    int64  \n 10  dmin       782 non-null    float64\n 11  gap        782 non-null    float64\n 12  magType    782 non-null    object \n 13  depth      782 non-null    float64\n 14  latitude   782 non-null    float64\n 15  longitude  782 non-null    float64\n 16  location   777 non-null    object \n 17  continent  206 non-null    object \n 18  country    484 non-null    object \ndtypes: float64(6), int64(5), object(8)\nmemory usage: 116.2+ KB\n",
          "output_type": "stream"
        }
      ]
    },
    {
      "cell_type": "code",
      "source": [
        "df.head(3)"
      ],
      "metadata": {
        "execution": {
          "iopub.status.busy": "2024-03-22T16:16:32.675634Z",
          "iopub.execute_input": "2024-03-22T16:16:32.676056Z",
          "iopub.status.idle": "2024-03-22T16:16:32.698504Z",
          "shell.execute_reply.started": "2024-03-22T16:16:32.676025Z",
          "shell.execute_reply": "2024-03-22T16:16:32.697531Z"
        },
        "trusted": true,
        "id": "m9-80aeHC5uK",
        "outputId": "11acf4fd-4b88-4dbf-f3fd-56e3ab4ae019"
      },
      "execution_count": null,
      "outputs": [
        {
          "execution_count": 21,
          "output_type": "execute_result",
          "data": {
            "text/plain": "                                          title  magnitude         date_time  \\\n0  M 7.0 - 18 km SW of Malango, Solomon Islands        7.0  22-11-2022 02:03   \n1      M 6.9 - 204 km SW of Bengkulu, Indonesia        6.9  18-11-2022 13:37   \n2                                      M 7.0 -         7.0  12-11-2022 07:09   \n\n   cdi  mmi  alert  tsunami  sig net  nst   dmin   gap magType  depth  \\\n0    8    7  green        1  768  us  117  0.509  17.0     mww   14.0   \n1    4    4  green        0  735  us   99  2.229  34.0     mww   25.0   \n2    3    3  green        1  755  us  147  3.125  18.0     mww  579.0   \n\n   latitude  longitude                  location continent          country  \n0   -9.7963    159.596  Malango, Solomon Islands   Oceania  Solomon Islands  \n1   -4.9559    100.738       Bengkulu, Indonesia       NaN              NaN  \n2  -20.0508   -178.346                       NaN   Oceania             Fiji  ",
            "text/html": "<div>\n<style scoped>\n    .dataframe tbody tr th:only-of-type {\n        vertical-align: middle;\n    }\n\n    .dataframe tbody tr th {\n        vertical-align: top;\n    }\n\n    .dataframe thead th {\n        text-align: right;\n    }\n</style>\n<table border=\"1\" class=\"dataframe\">\n  <thead>\n    <tr style=\"text-align: right;\">\n      <th></th>\n      <th>title</th>\n      <th>magnitude</th>\n      <th>date_time</th>\n      <th>cdi</th>\n      <th>mmi</th>\n      <th>alert</th>\n      <th>tsunami</th>\n      <th>sig</th>\n      <th>net</th>\n      <th>nst</th>\n      <th>dmin</th>\n      <th>gap</th>\n      <th>magType</th>\n      <th>depth</th>\n      <th>latitude</th>\n      <th>longitude</th>\n      <th>location</th>\n      <th>continent</th>\n      <th>country</th>\n    </tr>\n  </thead>\n  <tbody>\n    <tr>\n      <th>0</th>\n      <td>M 7.0 - 18 km SW of Malango, Solomon Islands</td>\n      <td>7.0</td>\n      <td>22-11-2022 02:03</td>\n      <td>8</td>\n      <td>7</td>\n      <td>green</td>\n      <td>1</td>\n      <td>768</td>\n      <td>us</td>\n      <td>117</td>\n      <td>0.509</td>\n      <td>17.0</td>\n      <td>mww</td>\n      <td>14.0</td>\n      <td>-9.7963</td>\n      <td>159.596</td>\n      <td>Malango, Solomon Islands</td>\n      <td>Oceania</td>\n      <td>Solomon Islands</td>\n    </tr>\n    <tr>\n      <th>1</th>\n      <td>M 6.9 - 204 km SW of Bengkulu, Indonesia</td>\n      <td>6.9</td>\n      <td>18-11-2022 13:37</td>\n      <td>4</td>\n      <td>4</td>\n      <td>green</td>\n      <td>0</td>\n      <td>735</td>\n      <td>us</td>\n      <td>99</td>\n      <td>2.229</td>\n      <td>34.0</td>\n      <td>mww</td>\n      <td>25.0</td>\n      <td>-4.9559</td>\n      <td>100.738</td>\n      <td>Bengkulu, Indonesia</td>\n      <td>NaN</td>\n      <td>NaN</td>\n    </tr>\n    <tr>\n      <th>2</th>\n      <td>M 7.0 -</td>\n      <td>7.0</td>\n      <td>12-11-2022 07:09</td>\n      <td>3</td>\n      <td>3</td>\n      <td>green</td>\n      <td>1</td>\n      <td>755</td>\n      <td>us</td>\n      <td>147</td>\n      <td>3.125</td>\n      <td>18.0</td>\n      <td>mww</td>\n      <td>579.0</td>\n      <td>-20.0508</td>\n      <td>-178.346</td>\n      <td>NaN</td>\n      <td>Oceania</td>\n      <td>Fiji</td>\n    </tr>\n  </tbody>\n</table>\n</div>"
          },
          "metadata": {}
        }
      ]
    },
    {
      "cell_type": "code",
      "source": [
        "df.at[0,'date_time']"
      ],
      "metadata": {
        "execution": {
          "iopub.status.busy": "2024-03-22T16:20:46.857182Z",
          "iopub.execute_input": "2024-03-22T16:20:46.858077Z",
          "iopub.status.idle": "2024-03-22T16:20:46.867529Z",
          "shell.execute_reply.started": "2024-03-22T16:20:46.858032Z",
          "shell.execute_reply": "2024-03-22T16:20:46.865874Z"
        },
        "trusted": true,
        "id": "BwGPXpn3C5uK",
        "outputId": "7b401e0d-d09d-461f-bca4-b83d5989fc08"
      },
      "execution_count": null,
      "outputs": [
        {
          "execution_count": 26,
          "output_type": "execute_result",
          "data": {
            "text/plain": "'22-11-2022 02:03'"
          },
          "metadata": {}
        }
      ]
    },
    {
      "cell_type": "code",
      "source": [
        "date.hour"
      ],
      "metadata": {
        "execution": {
          "iopub.status.busy": "2024-03-22T16:17:48.727746Z",
          "iopub.execute_input": "2024-03-22T16:17:48.728162Z",
          "iopub.status.idle": "2024-03-22T16:17:48.761715Z",
          "shell.execute_reply.started": "2024-03-22T16:17:48.728131Z",
          "shell.execute_reply": "2024-03-22T16:17:48.759653Z"
        },
        "trusted": true,
        "id": "_8meqUcCC5uK",
        "outputId": "bcb6690a-c4a2-441b-e440-28eda3f54b49"
      },
      "execution_count": null,
      "outputs": [
        {
          "traceback": [
            "\u001b[0;31m---------------------------------------------------------------------------\u001b[0m",
            "\u001b[0;31mAttributeError\u001b[0m                            Traceback (most recent call last)",
            "Cell \u001b[0;32mIn[25], line 1\u001b[0m\n\u001b[0;32m----> 1\u001b[0m \u001b[43mdate\u001b[49m\u001b[38;5;241;43m.\u001b[39;49m\u001b[43mhour\u001b[49m\n",
            "\u001b[0;31mAttributeError\u001b[0m: 'str' object has no attribute 'hour'"
          ],
          "ename": "AttributeError",
          "evalue": "'str' object has no attribute 'hour'",
          "output_type": "error"
        }
      ]
    },
    {
      "cell_type": "code",
      "source": [
        "pd.to_datetime(df['date_time'])"
      ],
      "metadata": {
        "execution": {
          "iopub.status.busy": "2024-03-22T16:22:58.000834Z",
          "iopub.execute_input": "2024-03-22T16:22:58.001261Z",
          "iopub.status.idle": "2024-03-22T16:22:58.026819Z",
          "shell.execute_reply.started": "2024-03-22T16:22:58.001231Z",
          "shell.execute_reply": "2024-03-22T16:22:58.025466Z"
        },
        "trusted": true,
        "id": "1h9ilgvFC5uK",
        "outputId": "f2b58ca8-8225-489b-fdf8-59c1e77d406b"
      },
      "execution_count": null,
      "outputs": [
        {
          "name": "stderr",
          "text": "/tmp/ipykernel_33/4049121273.py:1: UserWarning: Parsing dates in %d-%m-%Y %H:%M format when dayfirst=False (the default) was specified. Pass `dayfirst=True` or specify a format to silence this warning.\n  pd.to_datetime(df['date_time'])\n",
          "output_type": "stream"
        },
        {
          "execution_count": 27,
          "output_type": "execute_result",
          "data": {
            "text/plain": "0     2022-11-22 02:03:00\n1     2022-11-18 13:37:00\n2     2022-11-12 07:09:00\n3     2022-11-11 10:48:00\n4     2022-11-09 10:14:00\n              ...        \n777   2001-01-13 17:33:00\n778   2001-01-10 16:02:00\n779   2001-01-09 16:49:00\n780   2001-01-01 08:54:00\n781   2001-01-01 06:57:00\nName: date_time, Length: 782, dtype: datetime64[ns]"
          },
          "metadata": {}
        }
      ]
    },
    {
      "cell_type": "code",
      "source": [
        "df['date_time'].str.len().value_counts()"
      ],
      "metadata": {
        "execution": {
          "iopub.status.busy": "2024-03-22T16:26:57.70986Z",
          "iopub.execute_input": "2024-03-22T16:26:57.71034Z",
          "iopub.status.idle": "2024-03-22T16:26:57.723655Z",
          "shell.execute_reply.started": "2024-03-22T16:26:57.7103Z",
          "shell.execute_reply": "2024-03-22T16:26:57.722201Z"
        },
        "trusted": true,
        "id": "KJu39ut6C5uK",
        "outputId": "889d8244-73f8-4ca5-cd69-56b1c5e0a2f2"
      },
      "execution_count": null,
      "outputs": [
        {
          "execution_count": 31,
          "output_type": "execute_result",
          "data": {
            "text/plain": "date_time\n16    782\nName: count, dtype: int64"
          },
          "metadata": {}
        }
      ]
    },
    {
      "cell_type": "code",
      "source": [
        "df['Datetime'] = pd.to_datetime(df['date_time'],format='%d-%m-%Y %H:%M')\n",
        "df.head()"
      ],
      "metadata": {
        "execution": {
          "iopub.status.busy": "2024-03-22T16:34:13.148758Z",
          "iopub.execute_input": "2024-03-22T16:34:13.150285Z",
          "iopub.status.idle": "2024-03-22T16:34:13.179456Z",
          "shell.execute_reply.started": "2024-03-22T16:34:13.150234Z",
          "shell.execute_reply": "2024-03-22T16:34:13.178597Z"
        },
        "trusted": true,
        "id": "dHQES9mVC5uK",
        "outputId": "de229e8e-0fe9-4958-d096-a0a343897643"
      },
      "execution_count": null,
      "outputs": [
        {
          "execution_count": 35,
          "output_type": "execute_result",
          "data": {
            "text/plain": "                                          title  magnitude         date_time  \\\n0  M 7.0 - 18 km SW of Malango, Solomon Islands        7.0  22-11-2022 02:03   \n1      M 6.9 - 204 km SW of Bengkulu, Indonesia        6.9  18-11-2022 13:37   \n2                                      M 7.0 -         7.0  12-11-2022 07:09   \n3           M 7.3 - 205 km ESE of Neiafu, Tonga        7.3  11-11-2022 10:48   \n4                                      M 6.6 -         6.6  09-11-2022 10:14   \n\n   cdi  mmi  alert  tsunami  sig net  nst   dmin   gap magType    depth  \\\n0    8    7  green        1  768  us  117  0.509  17.0     mww   14.000   \n1    4    4  green        0  735  us   99  2.229  34.0     mww   25.000   \n2    3    3  green        1  755  us  147  3.125  18.0     mww  579.000   \n3    5    5  green        1  833  us  149  1.865  21.0     mww   37.000   \n4    0    2  green        1  670  us  131  4.998  27.0     mww  624.464   \n\n   latitude  longitude                  location continent          country  \\\n0   -9.7963    159.596  Malango, Solomon Islands   Oceania  Solomon Islands   \n1   -4.9559    100.738       Bengkulu, Indonesia       NaN              NaN   \n2  -20.0508   -178.346                       NaN   Oceania             Fiji   \n3  -19.2918   -172.129             Neiafu, Tonga       NaN              NaN   \n4  -25.5948    178.278                       NaN       NaN              NaN   \n\n             Datetime  \n0 2022-11-22 02:03:00  \n1 2022-11-18 13:37:00  \n2 2022-11-12 07:09:00  \n3 2022-11-11 10:48:00  \n4 2022-11-09 10:14:00  ",
            "text/html": "<div>\n<style scoped>\n    .dataframe tbody tr th:only-of-type {\n        vertical-align: middle;\n    }\n\n    .dataframe tbody tr th {\n        vertical-align: top;\n    }\n\n    .dataframe thead th {\n        text-align: right;\n    }\n</style>\n<table border=\"1\" class=\"dataframe\">\n  <thead>\n    <tr style=\"text-align: right;\">\n      <th></th>\n      <th>title</th>\n      <th>magnitude</th>\n      <th>date_time</th>\n      <th>cdi</th>\n      <th>mmi</th>\n      <th>alert</th>\n      <th>tsunami</th>\n      <th>sig</th>\n      <th>net</th>\n      <th>nst</th>\n      <th>dmin</th>\n      <th>gap</th>\n      <th>magType</th>\n      <th>depth</th>\n      <th>latitude</th>\n      <th>longitude</th>\n      <th>location</th>\n      <th>continent</th>\n      <th>country</th>\n      <th>Datetime</th>\n    </tr>\n  </thead>\n  <tbody>\n    <tr>\n      <th>0</th>\n      <td>M 7.0 - 18 km SW of Malango, Solomon Islands</td>\n      <td>7.0</td>\n      <td>22-11-2022 02:03</td>\n      <td>8</td>\n      <td>7</td>\n      <td>green</td>\n      <td>1</td>\n      <td>768</td>\n      <td>us</td>\n      <td>117</td>\n      <td>0.509</td>\n      <td>17.0</td>\n      <td>mww</td>\n      <td>14.000</td>\n      <td>-9.7963</td>\n      <td>159.596</td>\n      <td>Malango, Solomon Islands</td>\n      <td>Oceania</td>\n      <td>Solomon Islands</td>\n      <td>2022-11-22 02:03:00</td>\n    </tr>\n    <tr>\n      <th>1</th>\n      <td>M 6.9 - 204 km SW of Bengkulu, Indonesia</td>\n      <td>6.9</td>\n      <td>18-11-2022 13:37</td>\n      <td>4</td>\n      <td>4</td>\n      <td>green</td>\n      <td>0</td>\n      <td>735</td>\n      <td>us</td>\n      <td>99</td>\n      <td>2.229</td>\n      <td>34.0</td>\n      <td>mww</td>\n      <td>25.000</td>\n      <td>-4.9559</td>\n      <td>100.738</td>\n      <td>Bengkulu, Indonesia</td>\n      <td>NaN</td>\n      <td>NaN</td>\n      <td>2022-11-18 13:37:00</td>\n    </tr>\n    <tr>\n      <th>2</th>\n      <td>M 7.0 -</td>\n      <td>7.0</td>\n      <td>12-11-2022 07:09</td>\n      <td>3</td>\n      <td>3</td>\n      <td>green</td>\n      <td>1</td>\n      <td>755</td>\n      <td>us</td>\n      <td>147</td>\n      <td>3.125</td>\n      <td>18.0</td>\n      <td>mww</td>\n      <td>579.000</td>\n      <td>-20.0508</td>\n      <td>-178.346</td>\n      <td>NaN</td>\n      <td>Oceania</td>\n      <td>Fiji</td>\n      <td>2022-11-12 07:09:00</td>\n    </tr>\n    <tr>\n      <th>3</th>\n      <td>M 7.3 - 205 km ESE of Neiafu, Tonga</td>\n      <td>7.3</td>\n      <td>11-11-2022 10:48</td>\n      <td>5</td>\n      <td>5</td>\n      <td>green</td>\n      <td>1</td>\n      <td>833</td>\n      <td>us</td>\n      <td>149</td>\n      <td>1.865</td>\n      <td>21.0</td>\n      <td>mww</td>\n      <td>37.000</td>\n      <td>-19.2918</td>\n      <td>-172.129</td>\n      <td>Neiafu, Tonga</td>\n      <td>NaN</td>\n      <td>NaN</td>\n      <td>2022-11-11 10:48:00</td>\n    </tr>\n    <tr>\n      <th>4</th>\n      <td>M 6.6 -</td>\n      <td>6.6</td>\n      <td>09-11-2022 10:14</td>\n      <td>0</td>\n      <td>2</td>\n      <td>green</td>\n      <td>1</td>\n      <td>670</td>\n      <td>us</td>\n      <td>131</td>\n      <td>4.998</td>\n      <td>27.0</td>\n      <td>mww</td>\n      <td>624.464</td>\n      <td>-25.5948</td>\n      <td>178.278</td>\n      <td>NaN</td>\n      <td>NaN</td>\n      <td>NaN</td>\n      <td>2022-11-09 10:14:00</td>\n    </tr>\n  </tbody>\n</table>\n</div>"
          },
          "metadata": {}
        }
      ]
    },
    {
      "cell_type": "code",
      "source": [
        "df.at[0,'Datetime']"
      ],
      "metadata": {
        "execution": {
          "iopub.status.busy": "2024-03-22T16:34:57.978769Z",
          "iopub.execute_input": "2024-03-22T16:34:57.979166Z",
          "iopub.status.idle": "2024-03-22T16:34:57.986354Z",
          "shell.execute_reply.started": "2024-03-22T16:34:57.979127Z",
          "shell.execute_reply": "2024-03-22T16:34:57.985195Z"
        },
        "trusted": true,
        "id": "s3CDfDSDC5uK",
        "outputId": "def2ae0f-51eb-4382-eb29-00527a548950"
      },
      "execution_count": null,
      "outputs": [
        {
          "execution_count": 37,
          "output_type": "execute_result",
          "data": {
            "text/plain": "Timestamp('2022-11-22 02:03:00')"
          },
          "metadata": {}
        }
      ]
    },
    {
      "cell_type": "code",
      "source": [
        "df.at[0,'Datetime'].weekday()"
      ],
      "metadata": {
        "execution": {
          "iopub.status.busy": "2024-03-22T16:35:22.7514Z",
          "iopub.execute_input": "2024-03-22T16:35:22.75219Z",
          "iopub.status.idle": "2024-03-22T16:35:22.759535Z",
          "shell.execute_reply.started": "2024-03-22T16:35:22.75215Z",
          "shell.execute_reply": "2024-03-22T16:35:22.758389Z"
        },
        "trusted": true,
        "id": "PjesBHRpC5uL",
        "outputId": "eae221c6-f155-412a-f88b-8ccd10d1c0ed"
      },
      "execution_count": null,
      "outputs": [
        {
          "execution_count": 38,
          "output_type": "execute_result",
          "data": {
            "text/plain": "1"
          },
          "metadata": {}
        }
      ]
    },
    {
      "cell_type": "code",
      "source": [
        "# getting only months from the Datetime\n",
        "df['month'] = df['Datetime'].dt.month\n",
        "df['month'].value_counts()"
      ],
      "metadata": {
        "execution": {
          "iopub.status.busy": "2024-03-22T16:37:42.440265Z",
          "iopub.execute_input": "2024-03-22T16:37:42.440679Z",
          "iopub.status.idle": "2024-03-22T16:37:42.450776Z",
          "shell.execute_reply.started": "2024-03-22T16:37:42.440647Z",
          "shell.execute_reply": "2024-03-22T16:37:42.449576Z"
        },
        "trusted": true,
        "id": "rZRUEPmUC5uL",
        "outputId": "3a6e0eef-a8e6-465c-dd4f-51dc0d2d9083"
      },
      "execution_count": null,
      "outputs": [
        {
          "execution_count": 40,
          "output_type": "execute_result",
          "data": {
            "text/plain": "month\n11    80\n9     80\n4     77\n1     70\n10    69\n8     68\n3     63\n2     63\n5     58\n7     56\n12    56\n6     42\nName: count, dtype: int64"
          },
          "metadata": {}
        }
      ]
    },
    {
      "cell_type": "code",
      "source": [],
      "metadata": {
        "id": "VKfelS03C5uL"
      },
      "execution_count": null,
      "outputs": []
    }
  ]
}