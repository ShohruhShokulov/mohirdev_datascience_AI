{
  "nbformat": 4,
  "nbformat_minor": 0,
  "metadata": {
    "colab": {
      "provenance": [],
      "authorship_tag": "ABX9TyPGMW68nR4LKAwIEjidZtJx",
      "include_colab_link": true
    },
    "kernelspec": {
      "name": "python3",
      "display_name": "Python 3"
    },
    "language_info": {
      "name": "python"
    }
  },
  "cells": [
    {
      "cell_type": "markdown",
      "metadata": {
        "id": "view-in-github",
        "colab_type": "text"
      },
      "source": [
        "<a href=\"https://colab.research.google.com/github/ShohruhShokulov/mohirdev_datascience_AI/blob/main/numpyday5.ipynb\" target=\"_parent\"><img src=\"https://colab.research.google.com/assets/colab-badge.svg\" alt=\"Open In Colab\"/></a>"
      ]
    },
    {
      "cell_type": "code",
      "execution_count": 1,
      "metadata": {
        "id": "v7Fp7KQSwiYr"
      },
      "outputs": [],
      "source": [
        "import numpy as np"
      ]
    },
    {
      "cell_type": "code",
      "source": [
        "arr1 = np.arange(1,10).reshape(3,3)\n",
        "arr1"
      ],
      "metadata": {
        "colab": {
          "base_uri": "https://localhost:8080/"
        },
        "id": "2LhENYn2wkyH",
        "outputId": "34f0a167-f6dd-48c0-eaf6-5c03e71bcb1c"
      },
      "execution_count": 2,
      "outputs": [
        {
          "output_type": "execute_result",
          "data": {
            "text/plain": [
              "array([[1, 2, 3],\n",
              "       [4, 5, 6],\n",
              "       [7, 8, 9]])"
            ]
          },
          "metadata": {},
          "execution_count": 2
        }
      ]
    },
    {
      "cell_type": "code",
      "source": [
        "arr1.ndim"
      ],
      "metadata": {
        "colab": {
          "base_uri": "https://localhost:8080/"
        },
        "id": "qhnsVqdtw07H",
        "outputId": "adbc1c98-cb74-48b0-bca8-59f6316377f2"
      },
      "execution_count": 3,
      "outputs": [
        {
          "output_type": "execute_result",
          "data": {
            "text/plain": [
              "2"
            ]
          },
          "metadata": {},
          "execution_count": 3
        }
      ]
    },
    {
      "cell_type": "code",
      "source": [
        "arr1.size"
      ],
      "metadata": {
        "colab": {
          "base_uri": "https://localhost:8080/"
        },
        "id": "xyzx0Fgtw4vw",
        "outputId": "6784258e-2e8c-4429-8a89-195ad927d9de"
      },
      "execution_count": 4,
      "outputs": [
        {
          "output_type": "execute_result",
          "data": {
            "text/plain": [
              "9"
            ]
          },
          "metadata": {},
          "execution_count": 4
        }
      ]
    },
    {
      "cell_type": "code",
      "source": [
        "arr1[2,1]"
      ],
      "metadata": {
        "colab": {
          "base_uri": "https://localhost:8080/"
        },
        "id": "HbbeVoG5w7Yg",
        "outputId": "1fd27331-b417-4322-c2b2-1be4380ac70a"
      },
      "execution_count": 6,
      "outputs": [
        {
          "output_type": "execute_result",
          "data": {
            "text/plain": [
              "8"
            ]
          },
          "metadata": {},
          "execution_count": 6
        }
      ]
    },
    {
      "cell_type": "code",
      "source": [
        "arr2 = np.array([\"shohruh\",\"miron\",\"mirsaid\"])\n",
        "arr2"
      ],
      "metadata": {
        "colab": {
          "base_uri": "https://localhost:8080/"
        },
        "id": "aKeY-NmmxBCA",
        "outputId": "e513ccc0-bc5e-4ba7-cf81-6af4f0774e44"
      },
      "execution_count": 9,
      "outputs": [
        {
          "output_type": "execute_result",
          "data": {
            "text/plain": [
              "array(['shohruh', 'miron', 'mirsaid'], dtype='<U7')"
            ]
          },
          "metadata": {},
          "execution_count": 9
        }
      ]
    },
    {
      "cell_type": "code",
      "source": [
        "arr1[arr2 == \"shohruh\"]"
      ],
      "metadata": {
        "colab": {
          "base_uri": "https://localhost:8080/"
        },
        "id": "ztj8S5XXxQBv",
        "outputId": "333d21bf-79e5-43e2-9705-fd8734d15c5a"
      },
      "execution_count": 10,
      "outputs": [
        {
          "output_type": "execute_result",
          "data": {
            "text/plain": [
              "array([[1, 2, 3]])"
            ]
          },
          "metadata": {},
          "execution_count": 10
        }
      ]
    },
    {
      "cell_type": "markdown",
      "source": [
        "#Transposing and Swapping"
      ],
      "metadata": {
        "id": "bqanceiaxg98"
      }
    },
    {
      "cell_type": "code",
      "source": [
        "a = np.arange(0,6).reshape(3,2) #reshape method which is used to makiing the array like matrix\n",
        "a"
      ],
      "metadata": {
        "colab": {
          "base_uri": "https://localhost:8080/"
        },
        "id": "Al1LoKyAxbkM",
        "outputId": "09331052-91c1-474a-fd44-6a2d581f2631"
      },
      "execution_count": 12,
      "outputs": [
        {
          "output_type": "execute_result",
          "data": {
            "text/plain": [
              "array([[0, 1],\n",
              "       [2, 3],\n",
              "       [4, 5]])"
            ]
          },
          "metadata": {},
          "execution_count": 12
        }
      ]
    },
    {
      "cell_type": "code",
      "source": [
        "#transpose method\n",
        "a.T # \".T \" with using this method we can transpose our a array"
      ],
      "metadata": {
        "colab": {
          "base_uri": "https://localhost:8080/"
        },
        "id": "RbJ9ETnDx6Mm",
        "outputId": "ad33c8c0-aa8e-4028-8911-28ba56e1b0ef"
      },
      "execution_count": 13,
      "outputs": [
        {
          "output_type": "execute_result",
          "data": {
            "text/plain": [
              "array([[0, 2, 4],\n",
              "       [1, 3, 5]])"
            ]
          },
          "metadata": {},
          "execution_count": 13
        }
      ]
    },
    {
      "cell_type": "code",
      "source": [
        "#swapping axes\n",
        "a.swapaxes(0,1)"
      ],
      "metadata": {
        "colab": {
          "base_uri": "https://localhost:8080/"
        },
        "id": "bOLvUoIQyPAN",
        "outputId": "2abf6aa7-f788-406e-d4ea-4bf5a56a63e2"
      },
      "execution_count": 19,
      "outputs": [
        {
          "output_type": "execute_result",
          "data": {
            "text/plain": [
              "array([[0, 2, 4],\n",
              "       [1, 3, 5]])"
            ]
          },
          "metadata": {},
          "execution_count": 19
        }
      ]
    },
    {
      "cell_type": "code",
      "source": [
        "#AAT\n",
        "np.dot(a,a.T)"
      ],
      "metadata": {
        "colab": {
          "base_uri": "https://localhost:8080/"
        },
        "id": "YbH6dW9Uy6iS",
        "outputId": "fdcc0911-cd1b-4146-8e1b-de2ce4a4382e"
      },
      "execution_count": 21,
      "outputs": [
        {
          "output_type": "execute_result",
          "data": {
            "text/plain": [
              "array([[ 1,  3,  5],\n",
              "       [ 3, 13, 23],\n",
              "       [ 5, 23, 41]])"
            ]
          },
          "metadata": {},
          "execution_count": 21
        }
      ]
    },
    {
      "cell_type": "markdown",
      "source": [
        "#Universal functions\n",
        "#unary function"
      ],
      "metadata": {
        "id": "pqUlmDMQ1hos"
      }
    },
    {
      "cell_type": "code",
      "source": [
        "array = np.arange(10).reshape(5,2)\n",
        "array"
      ],
      "metadata": {
        "colab": {
          "base_uri": "https://localhost:8080/"
        },
        "id": "mu4qHbruzYDV",
        "outputId": "6be3ae39-2773-472c-f6bb-09e812038066"
      },
      "execution_count": 28,
      "outputs": [
        {
          "output_type": "execute_result",
          "data": {
            "text/plain": [
              "array([[0, 1],\n",
              "       [2, 3],\n",
              "       [4, 5],\n",
              "       [6, 7],\n",
              "       [8, 9]])"
            ]
          },
          "metadata": {},
          "execution_count": 28
        }
      ]
    },
    {
      "cell_type": "code",
      "source": [
        "np.sqrt(array) # this function returns the square root of the numbers inside an array"
      ],
      "metadata": {
        "colab": {
          "base_uri": "https://localhost:8080/"
        },
        "id": "KyG-zG_x1yo8",
        "outputId": "12f2ff65-4e5b-45e6-b1f0-6cec8386ae1d"
      },
      "execution_count": 29,
      "outputs": [
        {
          "output_type": "execute_result",
          "data": {
            "text/plain": [
              "array([[0.        , 1.        ],\n",
              "       [1.41421356, 1.73205081],\n",
              "       [2.        , 2.23606798],\n",
              "       [2.44948974, 2.64575131],\n",
              "       [2.82842712, 3.        ]])"
            ]
          },
          "metadata": {},
          "execution_count": 29
        }
      ]
    },
    {
      "cell_type": "code",
      "source": [
        "np.square(array) # \"square\" function returns the square of an array"
      ],
      "metadata": {
        "colab": {
          "base_uri": "https://localhost:8080/"
        },
        "id": "j1dZSp0o164Z",
        "outputId": "7a2197d8-f810-4812-f901-8dd33d0f2714"
      },
      "execution_count": 30,
      "outputs": [
        {
          "output_type": "execute_result",
          "data": {
            "text/plain": [
              "array([[ 0,  1],\n",
              "       [ 4,  9],\n",
              "       [16, 25],\n",
              "       [36, 49],\n",
              "       [64, 81]])"
            ]
          },
          "metadata": {},
          "execution_count": 30
        }
      ]
    },
    {
      "cell_type": "code",
      "source": [
        "np.exp(array)"
      ],
      "metadata": {
        "colab": {
          "base_uri": "https://localhost:8080/"
        },
        "id": "DX0i9YyH2gL-",
        "outputId": "2260769a-927a-4bfa-a0c2-bb090e5287b1"
      },
      "execution_count": 31,
      "outputs": [
        {
          "output_type": "execute_result",
          "data": {
            "text/plain": [
              "array([[1.00000000e+00, 2.71828183e+00],\n",
              "       [7.38905610e+00, 2.00855369e+01],\n",
              "       [5.45981500e+01, 1.48413159e+02],\n",
              "       [4.03428793e+02, 1.09663316e+03],\n",
              "       [2.98095799e+03, 8.10308393e+03]])"
            ]
          },
          "metadata": {},
          "execution_count": 31
        }
      ]
    },
    {
      "cell_type": "code",
      "source": [
        "np.log(array[1:]) # except first element all elements are log in the base of 2"
      ],
      "metadata": {
        "colab": {
          "base_uri": "https://localhost:8080/"
        },
        "id": "GfbHniNF2kLA",
        "outputId": "9ec8f298-7007-4e63-fde6-29def7c5a390"
      },
      "execution_count": 33,
      "outputs": [
        {
          "output_type": "execute_result",
          "data": {
            "text/plain": [
              "array([[0.69314718, 1.09861229],\n",
              "       [1.38629436, 1.60943791],\n",
              "       [1.79175947, 1.94591015],\n",
              "       [2.07944154, 2.19722458]])"
            ]
          },
          "metadata": {},
          "execution_count": 33
        }
      ]
    },
    {
      "cell_type": "markdown",
      "source": [
        "#modf function which return the integer and residual parts"
      ],
      "metadata": {
        "id": "Hpet3V3a3TUc"
      }
    },
    {
      "cell_type": "code",
      "source": [
        "array1 = np.random.randn(6)\n",
        "array1"
      ],
      "metadata": {
        "colab": {
          "base_uri": "https://localhost:8080/"
        },
        "id": "AcAzjwmE20gu",
        "outputId": "18af21b5-d1f9-41a6-a995-0f78b3a9c19e"
      },
      "execution_count": 34,
      "outputs": [
        {
          "output_type": "execute_result",
          "data": {
            "text/plain": [
              "array([ 1.00116806, -0.75478385,  0.193675  ,  0.05738448,  1.58715375,\n",
              "       -0.7552189 ])"
            ]
          },
          "metadata": {},
          "execution_count": 34
        }
      ]
    },
    {
      "cell_type": "code",
      "source": [
        "np.modf(array1)"
      ],
      "metadata": {
        "colab": {
          "base_uri": "https://localhost:8080/"
        },
        "id": "IcRhnznO3xLk",
        "outputId": "74fa1f1c-bd89-48e3-b5df-4cefd2616385"
      },
      "execution_count": 36,
      "outputs": [
        {
          "output_type": "execute_result",
          "data": {
            "text/plain": [
              "(array([ 0.00116806, -0.75478385,  0.193675  ,  0.05738448,  0.58715375,\n",
              "        -0.7552189 ]),\n",
              " array([ 1., -0.,  0.,  0.,  1., -0.]))"
            ]
          },
          "metadata": {},
          "execution_count": 36
        }
      ]
    },
    {
      "cell_type": "code",
      "source": [
        "array2 = np.arange(-9,-1)\n",
        "array2"
      ],
      "metadata": {
        "colab": {
          "base_uri": "https://localhost:8080/"
        },
        "id": "MBWt1b4y32aj",
        "outputId": "37968267-fe35-41f8-8d23-e78ae94edf1d"
      },
      "execution_count": 38,
      "outputs": [
        {
          "output_type": "execute_result",
          "data": {
            "text/plain": [
              "array([-9, -8, -7, -6, -5, -4, -3, -2])"
            ]
          },
          "metadata": {},
          "execution_count": 38
        }
      ]
    },
    {
      "cell_type": "code",
      "source": [
        "np.sign(array2) # \"sign\" function return 1 if number in array is positive, else returns -1 as shown below"
      ],
      "metadata": {
        "colab": {
          "base_uri": "https://localhost:8080/"
        },
        "id": "6ksXZzsV4IGR",
        "outputId": "0daff651-f08f-4f8d-86d9-ae314d7ffa9a"
      },
      "execution_count": 40,
      "outputs": [
        {
          "output_type": "execute_result",
          "data": {
            "text/plain": [
              "array([-1, -1, -1, -1, -1, -1, -1, -1])"
            ]
          },
          "metadata": {},
          "execution_count": 40
        }
      ]
    },
    {
      "cell_type": "code",
      "source": [
        "#isnan function\n",
        "array1"
      ],
      "metadata": {
        "colab": {
          "base_uri": "https://localhost:8080/"
        },
        "id": "1wVSQ6J94QfD",
        "outputId": "17037d58-96f3-4b99-fda0-0d8311443615"
      },
      "execution_count": 41,
      "outputs": [
        {
          "output_type": "execute_result",
          "data": {
            "text/plain": [
              "array([ 1.00116806, -0.75478385,  0.193675  ,  0.05738448,  1.58715375,\n",
              "       -0.7552189 ])"
            ]
          },
          "metadata": {},
          "execution_count": 41
        }
      ]
    },
    {
      "cell_type": "code",
      "source": [
        "np.isnan(array1)"
      ],
      "metadata": {
        "colab": {
          "base_uri": "https://localhost:8080/"
        },
        "id": "v-wtKk4U46sN",
        "outputId": "1f040e48-1888-4a9f-b80d-9f3f49854386"
      },
      "execution_count": 43,
      "outputs": [
        {
          "output_type": "execute_result",
          "data": {
            "text/plain": [
              "array([False, False, False, False, False, False])"
            ]
          },
          "metadata": {},
          "execution_count": 43
        }
      ]
    },
    {
      "cell_type": "code",
      "source": [
        "array1[0]= np.NaN\n",
        "array1"
      ],
      "metadata": {
        "colab": {
          "base_uri": "https://localhost:8080/"
        },
        "id": "5V2MFxR75Av8",
        "outputId": "2b0d1647-b666-4008-b4aa-849fac6f442d"
      },
      "execution_count": 46,
      "outputs": [
        {
          "output_type": "execute_result",
          "data": {
            "text/plain": [
              "array([        nan, -0.75478385,  0.193675  ,  0.05738448,  1.58715375,\n",
              "       -0.7552189 ])"
            ]
          },
          "metadata": {},
          "execution_count": 46
        }
      ]
    },
    {
      "cell_type": "code",
      "source": [
        "np.isnan(array1)"
      ],
      "metadata": {
        "colab": {
          "base_uri": "https://localhost:8080/"
        },
        "id": "KbhTBJRG5ZQ_",
        "outputId": "5137fc1b-250f-4ceb-dc89-c8e4b09524fa"
      },
      "execution_count": 45,
      "outputs": [
        {
          "output_type": "execute_result",
          "data": {
            "text/plain": [
              "array([ True, False, False, False, False, False])"
            ]
          },
          "metadata": {},
          "execution_count": 45
        }
      ]
    },
    {
      "cell_type": "code",
      "source": [
        "ar1 = np.copy(array[1,1])\n",
        "ar1"
      ],
      "metadata": {
        "colab": {
          "base_uri": "https://localhost:8080/"
        },
        "id": "9J6321O05c6P",
        "outputId": "1fe1e69f-86da-4c45-aac5-ee5acedc8ed1"
      },
      "execution_count": 50,
      "outputs": [
        {
          "output_type": "execute_result",
          "data": {
            "text/plain": [
              "array(3)"
            ]
          },
          "metadata": {},
          "execution_count": 50
        }
      ]
    },
    {
      "cell_type": "markdown",
      "source": [
        "#Binary functions\n",
        "-  add, multiply, maximum"
      ],
      "metadata": {
        "id": "5xjd4R_E6H6E"
      }
    },
    {
      "cell_type": "code",
      "source": [
        "ar2 = np.random.randn(6)\n",
        "ar3 = np.random.randn(6)\n"
      ],
      "metadata": {
        "id": "NorRWkE26CvE"
      },
      "execution_count": 51,
      "outputs": []
    },
    {
      "cell_type": "code",
      "source": [
        "ar2"
      ],
      "metadata": {
        "colab": {
          "base_uri": "https://localhost:8080/"
        },
        "id": "-8PvfAfj6giU",
        "outputId": "204b5d0e-964f-4238-fdfe-a70a155f0736"
      },
      "execution_count": 52,
      "outputs": [
        {
          "output_type": "execute_result",
          "data": {
            "text/plain": [
              "array([-0.24943853,  0.60524503,  0.17710495, -0.4356709 , -0.69725207,\n",
              "       -0.92771875])"
            ]
          },
          "metadata": {},
          "execution_count": 52
        }
      ]
    },
    {
      "cell_type": "code",
      "source": [
        "ar3"
      ],
      "metadata": {
        "colab": {
          "base_uri": "https://localhost:8080/"
        },
        "id": "3CCvPXl36iZ-",
        "outputId": "b780b7fd-6e6a-4072-8013-a6b2c909f362"
      },
      "execution_count": 53,
      "outputs": [
        {
          "output_type": "execute_result",
          "data": {
            "text/plain": [
              "array([ 0.11820149, -0.97720283,  0.13572202, -0.17131498,  0.04324593,\n",
              "        0.61489762])"
            ]
          },
          "metadata": {},
          "execution_count": 53
        }
      ]
    },
    {
      "cell_type": "code",
      "source": [
        "#add function\n",
        "np.add (ar2,ar3)"
      ],
      "metadata": {
        "colab": {
          "base_uri": "https://localhost:8080/"
        },
        "id": "YjQZtA7_6jtT",
        "outputId": "92f913b4-7bfe-4c86-e831-05d5ce009972"
      },
      "execution_count": 54,
      "outputs": [
        {
          "output_type": "execute_result",
          "data": {
            "text/plain": [
              "array([-0.13123704, -0.37195779,  0.31282697, -0.60698587, -0.65400614,\n",
              "       -0.31282113])"
            ]
          },
          "metadata": {},
          "execution_count": 54
        }
      ]
    },
    {
      "cell_type": "code",
      "source": [
        "# multiply function\n",
        "np.multiply(ar1,ar2)"
      ],
      "metadata": {
        "colab": {
          "base_uri": "https://localhost:8080/"
        },
        "id": "5WdqGFBf6p23",
        "outputId": "9a699e51-00f6-4c32-cccb-ab302b4e9281"
      },
      "execution_count": 60,
      "outputs": [
        {
          "output_type": "execute_result",
          "data": {
            "text/plain": [
              "array([-0.74831559,  1.8157351 ,  0.53131485, -1.30701269, -2.09175621,\n",
              "       -2.78315626])"
            ]
          },
          "metadata": {},
          "execution_count": 60
        }
      ]
    },
    {
      "cell_type": "code",
      "source": [
        "a = np.array([1,2])\n",
        "b = np.array([3,4])\n",
        "np.maximum(a,b)"
      ],
      "metadata": {
        "colab": {
          "base_uri": "https://localhost:8080/"
        },
        "id": "r0FhLy8f69bV",
        "outputId": "c532d4bb-8158-4ef8-b1df-0390d4f2f383"
      },
      "execution_count": 61,
      "outputs": [
        {
          "output_type": "execute_result",
          "data": {
            "text/plain": [
              "array([3, 4])"
            ]
          },
          "metadata": {},
          "execution_count": 61
        }
      ]
    },
    {
      "cell_type": "markdown",
      "source": [
        "#where Mantiqiy shart operatori\n",
        "-   if condtion is true, element from the first array in the posion of the contion operator will be called. Else if it is false, elemnets from the second array will be called"
      ],
      "metadata": {
        "id": "HGpFgYIU9XUi"
      }
    },
    {
      "cell_type": "code",
      "source": [
        "x = np.array([1.1,1.2,1.3,1.4,1.5])\n",
        "y = np.array([2.1,2.2,2.3,2.4,2.5])\n"
      ],
      "metadata": {
        "id": "Y3sBusjf9ddD"
      },
      "execution_count": 62,
      "outputs": []
    },
    {
      "cell_type": "code",
      "source": [
        "#conditions\n",
        "cond = np.array([True,False,True,True,False])\n"
      ],
      "metadata": {
        "id": "lUlcG7_896dy"
      },
      "execution_count": 63,
      "outputs": []
    },
    {
      "cell_type": "code",
      "source": [
        "np.where(cond,x,y)"
      ],
      "metadata": {
        "colab": {
          "base_uri": "https://localhost:8080/"
        },
        "id": "h52T-OwS-IHd",
        "outputId": "45536c8b-6843-466a-f791-5fe29727b8af"
      },
      "execution_count": 64,
      "outputs": [
        {
          "output_type": "execute_result",
          "data": {
            "text/plain": [
              "array([1.1, 2.2, 1.3, 1.4, 2.5])"
            ]
          },
          "metadata": {},
          "execution_count": 64
        }
      ]
    },
    {
      "cell_type": "code",
      "source": [
        "arr4 = np.random.randn(4)\n",
        "arr4"
      ],
      "metadata": {
        "colab": {
          "base_uri": "https://localhost:8080/"
        },
        "id": "4sYG0rjv-l6-",
        "outputId": "310df866-1f1d-4cee-ba89-f9aa329ee64e"
      },
      "execution_count": 65,
      "outputs": [
        {
          "output_type": "execute_result",
          "data": {
            "text/plain": [
              "array([ 0.57386245,  0.6566829 ,  0.01219263, -0.14498905])"
            ]
          },
          "metadata": {},
          "execution_count": 65
        }
      ]
    },
    {
      "cell_type": "code",
      "source": [
        "np.where(arr4<0,-2,2) #if the element inside an array is negative, this function will return -2, else 2"
      ],
      "metadata": {
        "colab": {
          "base_uri": "https://localhost:8080/"
        },
        "id": "DaXs5Wmh_QJM",
        "outputId": "488a9b45-4042-4f20-9b64-a4eb7db1a82d"
      },
      "execution_count": 66,
      "outputs": [
        {
          "output_type": "execute_result",
          "data": {
            "text/plain": [
              "array([ 2,  2,  2, -2])"
            ]
          },
          "metadata": {},
          "execution_count": 66
        }
      ]
    },
    {
      "cell_type": "code",
      "source": [
        "a1 = np.arange(6).reshape(3,2)\n",
        "a2 = np.arange(6,12).reshape(3,2)"
      ],
      "metadata": {
        "id": "d0RPzpXrAWQq"
      },
      "execution_count": 69,
      "outputs": []
    },
    {
      "cell_type": "code",
      "source": [
        "a1"
      ],
      "metadata": {
        "colab": {
          "base_uri": "https://localhost:8080/"
        },
        "id": "yPfn8-1LA4M2",
        "outputId": "4dd00b95-644f-4a06-b9c1-927c5abe4e42"
      },
      "execution_count": 71,
      "outputs": [
        {
          "output_type": "execute_result",
          "data": {
            "text/plain": [
              "array([[0, 1],\n",
              "       [2, 3],\n",
              "       [4, 5]])"
            ]
          },
          "metadata": {},
          "execution_count": 71
        }
      ]
    },
    {
      "cell_type": "code",
      "source": [
        "a2"
      ],
      "metadata": {
        "colab": {
          "base_uri": "https://localhost:8080/"
        },
        "id": "OvZZ_fe5A39W",
        "outputId": "c73c3f51-ef96-47e9-bedc-f525c64c0ba3"
      },
      "execution_count": 72,
      "outputs": [
        {
          "output_type": "execute_result",
          "data": {
            "text/plain": [
              "array([[ 6,  7],\n",
              "       [ 8,  9],\n",
              "       [10, 11]])"
            ]
          },
          "metadata": {},
          "execution_count": 72
        }
      ]
    },
    {
      "cell_type": "code",
      "source": [
        "#add\n",
        "a1+a2"
      ],
      "metadata": {
        "colab": {
          "base_uri": "https://localhost:8080/"
        },
        "id": "DCWkLSmG_i37",
        "outputId": "c6441e52-49e6-4eda-bd7a-2deb3d9f2ee1"
      },
      "execution_count": 70,
      "outputs": [
        {
          "output_type": "execute_result",
          "data": {
            "text/plain": [
              "array([[ 6,  8],\n",
              "       [10, 12],\n",
              "       [14, 16]])"
            ]
          },
          "metadata": {},
          "execution_count": 70
        }
      ]
    },
    {
      "cell_type": "code",
      "source": [
        "#multiply\n",
        "a1*a2"
      ],
      "metadata": {
        "colab": {
          "base_uri": "https://localhost:8080/"
        },
        "id": "NZ-h4VLUAzyK",
        "outputId": "dd6c3544-eae9-4bac-afa6-6ada0acff923"
      },
      "execution_count": 73,
      "outputs": [
        {
          "output_type": "execute_result",
          "data": {
            "text/plain": [
              "array([[ 0,  7],\n",
              "       [16, 27],\n",
              "       [40, 55]])"
            ]
          },
          "metadata": {},
          "execution_count": 73
        }
      ]
    },
    {
      "cell_type": "code",
      "source": [
        "#subtract\n",
        "a1-a2"
      ],
      "metadata": {
        "colab": {
          "base_uri": "https://localhost:8080/"
        },
        "id": "w_CG2v7yA_SJ",
        "outputId": "6232fa75-ed8c-4233-8c9e-1db83608652e"
      },
      "execution_count": 74,
      "outputs": [
        {
          "output_type": "execute_result",
          "data": {
            "text/plain": [
              "array([[-6, -6],\n",
              "       [-6, -6],\n",
              "       [-6, -6]])"
            ]
          },
          "metadata": {},
          "execution_count": 74
        }
      ]
    },
    {
      "cell_type": "code",
      "source": [
        "# devide\n",
        "a1/a2"
      ],
      "metadata": {
        "colab": {
          "base_uri": "https://localhost:8080/"
        },
        "id": "g0f-5r5HBGNY",
        "outputId": "a9c5fab6-0d6e-4b5c-d75c-a31a0730f290"
      },
      "execution_count": 75,
      "outputs": [
        {
          "output_type": "execute_result",
          "data": {
            "text/plain": [
              "array([[0.        , 0.14285714],\n",
              "       [0.25      , 0.33333333],\n",
              "       [0.4       , 0.45454545]])"
            ]
          },
          "metadata": {},
          "execution_count": 75
        }
      ]
    },
    {
      "cell_type": "code",
      "source": [
        "#square\n",
        "a1**2"
      ],
      "metadata": {
        "colab": {
          "base_uri": "https://localhost:8080/"
        },
        "id": "zIjKpEGbBLhT",
        "outputId": "31a6161c-d3bd-4327-c293-c304240858d8"
      },
      "execution_count": 76,
      "outputs": [
        {
          "output_type": "execute_result",
          "data": {
            "text/plain": [
              "array([[ 0,  1],\n",
              "       [ 4,  9],\n",
              "       [16, 25]])"
            ]
          },
          "metadata": {},
          "execution_count": 76
        }
      ]
    },
    {
      "cell_type": "code",
      "source": [
        "ar1**0.5"
      ],
      "metadata": {
        "colab": {
          "base_uri": "https://localhost:8080/"
        },
        "id": "0nSUYkcBBOzm",
        "outputId": "c8c870c6-6f65-448b-ec43-d0ba8c50048b"
      },
      "execution_count": 77,
      "outputs": [
        {
          "output_type": "execute_result",
          "data": {
            "text/plain": [
              "1.7320508075688772"
            ]
          },
          "metadata": {},
          "execution_count": 77
        }
      ]
    }
  ]
}