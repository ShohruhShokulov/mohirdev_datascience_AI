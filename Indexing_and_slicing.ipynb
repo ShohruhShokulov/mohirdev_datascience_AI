{
  "nbformat": 4,
  "nbformat_minor": 0,
  "metadata": {
    "colab": {
      "provenance": [],
      "authorship_tag": "ABX9TyMdvr9wfiH+0K/z47KnFn8Z",
      "include_colab_link": true
    },
    "kernelspec": {
      "name": "python3",
      "display_name": "Python 3"
    },
    "language_info": {
      "name": "python"
    }
  },
  "cells": [
    {
      "cell_type": "markdown",
      "metadata": {
        "id": "view-in-github",
        "colab_type": "text"
      },
      "source": [
        "<a href=\"https://colab.research.google.com/github/ShohruhShokulov/mohirdev_datascience_AI/blob/main/Indexing_and_slicing.ipynb\" target=\"_parent\"><img src=\"https://colab.research.google.com/assets/colab-badge.svg\" alt=\"Open In Colab\"/></a>"
      ]
    },
    {
      "cell_type": "code",
      "execution_count": null,
      "metadata": {
        "colab": {
          "base_uri": "https://localhost:8080/"
        },
        "id": "6GF4ghUq4VLA",
        "outputId": "91a18b62-6fa0-4ee2-856c-e363aabb4de7"
      },
      "outputs": [
        {
          "output_type": "execute_result",
          "data": {
            "text/plain": [
              "array([[0, 1, 2],\n",
              "       [3, 4, 5]])"
            ]
          },
          "metadata": {},
          "execution_count": 3
        }
      ],
      "source": [
        "import numpy as np\n",
        "\n",
        "arr1 = np.arange(0,6).reshape(2,3)\n",
        "arr1"
      ]
    },
    {
      "cell_type": "code",
      "source": [
        "arr1.size\n",
        "arr1.shape"
      ],
      "metadata": {
        "colab": {
          "base_uri": "https://localhost:8080/"
        },
        "id": "Z9lJhAjX5HP-",
        "outputId": "601496af-0360-4d98-9457-007c29c17653"
      },
      "execution_count": null,
      "outputs": [
        {
          "output_type": "execute_result",
          "data": {
            "text/plain": [
              "(2, 3)"
            ]
          },
          "metadata": {},
          "execution_count": 5
        }
      ]
    },
    {
      "cell_type": "code",
      "source": [
        "arr1.ndim"
      ],
      "metadata": {
        "colab": {
          "base_uri": "https://localhost:8080/"
        },
        "id": "6H61syRj5Xea",
        "outputId": "e43481da-e5db-41ef-d703-75a8a26fa562"
      },
      "execution_count": null,
      "outputs": [
        {
          "output_type": "execute_result",
          "data": {
            "text/plain": [
              "2"
            ]
          },
          "metadata": {},
          "execution_count": 7
        }
      ]
    },
    {
      "cell_type": "code",
      "source": [
        "float_arr1 = arr1.astype(np.int8)\n",
        "float_arr1"
      ],
      "metadata": {
        "colab": {
          "base_uri": "https://localhost:8080/"
        },
        "id": "Z0mJoihZ5d5N",
        "outputId": "f51cb46d-50a1-4d92-8ecc-3c8accb2cc1c"
      },
      "execution_count": null,
      "outputs": [
        {
          "output_type": "execute_result",
          "data": {
            "text/plain": [
              "array([[0, 1, 2],\n",
              "       [3, 4, 5]], dtype=int8)"
            ]
          },
          "metadata": {},
          "execution_count": 8
        }
      ]
    },
    {
      "cell_type": "markdown",
      "source": [
        "#Array slicing and indexing"
      ],
      "metadata": {
        "id": "pCfDXRLF57FL"
      }
    },
    {
      "cell_type": "code",
      "source": [
        "arr = np.array((1,2,3,4,5))\n",
        "arr[0]"
      ],
      "metadata": {
        "colab": {
          "base_uri": "https://localhost:8080/"
        },
        "id": "yPmzEe1454Qx",
        "outputId": "86880c1d-c43f-4623-eb1e-43bd2309427b"
      },
      "execution_count": null,
      "outputs": [
        {
          "output_type": "execute_result",
          "data": {
            "text/plain": [
              "1"
            ]
          },
          "metadata": {},
          "execution_count": 13
        }
      ]
    },
    {
      "cell_type": "code",
      "source": [
        "arr[-1]"
      ],
      "metadata": {
        "colab": {
          "base_uri": "https://localhost:8080/"
        },
        "id": "JQ78ySgN6f-A",
        "outputId": "4f3095b7-6b74-464c-93fb-abe34cb33bf0"
      },
      "execution_count": null,
      "outputs": [
        {
          "output_type": "execute_result",
          "data": {
            "text/plain": [
              "5"
            ]
          },
          "metadata": {},
          "execution_count": 16
        }
      ]
    },
    {
      "cell_type": "code",
      "source": [
        "print(arr[1]+arr[-1])"
      ],
      "metadata": {
        "colab": {
          "base_uri": "https://localhost:8080/"
        },
        "id": "GnqiD0gA6iRG",
        "outputId": "88c1faeb-6c48-47d9-8721-777d35485f2c"
      },
      "execution_count": null,
      "outputs": [
        {
          "output_type": "stream",
          "name": "stdout",
          "text": [
            "7\n"
          ]
        }
      ]
    },
    {
      "cell_type": "code",
      "source": [
        "arr[1:-1]"
      ],
      "metadata": {
        "colab": {
          "base_uri": "https://localhost:8080/"
        },
        "id": "H6lESpeL6soZ",
        "outputId": "75dee42a-d3d7-431b-cfab-cfbd63f64366"
      },
      "execution_count": null,
      "outputs": [
        {
          "output_type": "execute_result",
          "data": {
            "text/plain": [
              "array([2, 3, 4])"
            ]
          },
          "metadata": {},
          "execution_count": 18
        }
      ]
    },
    {
      "cell_type": "code",
      "source": [
        "arr2= np.arange(0,101,10)\n",
        "arr2"
      ],
      "metadata": {
        "colab": {
          "base_uri": "https://localhost:8080/"
        },
        "id": "ZqZD5enJ9HnS",
        "outputId": "76cc778a-df4c-411e-bd39-cefcbea1f895"
      },
      "execution_count": null,
      "outputs": [
        {
          "output_type": "execute_result",
          "data": {
            "text/plain": [
              "array([  0,  10,  20,  30,  40,  50,  60,  70,  80,  90, 100])"
            ]
          },
          "metadata": {},
          "execution_count": 19
        }
      ]
    },
    {
      "cell_type": "code",
      "source": [
        "sliced_array = arr2[4:6]\n",
        "sliced_array"
      ],
      "metadata": {
        "colab": {
          "base_uri": "https://localhost:8080/"
        },
        "id": "DhKFfh129vmN",
        "outputId": "bbac7727-3d35-480c-f38e-5606505c7059"
      },
      "execution_count": null,
      "outputs": [
        {
          "output_type": "execute_result",
          "data": {
            "text/plain": [
              "array([40, 50])"
            ]
          },
          "metadata": {},
          "execution_count": 20
        }
      ]
    },
    {
      "cell_type": "code",
      "source": [
        "sliced_array[:]= 0  # \" : \" this sign means that all element of the array\n",
        "sliced_array"
      ],
      "metadata": {
        "colab": {
          "base_uri": "https://localhost:8080/"
        },
        "id": "4S8imuiw99LN",
        "outputId": "dbb79ec3-0940-4713-9f7a-c95aea353f8b"
      },
      "execution_count": null,
      "outputs": [
        {
          "output_type": "execute_result",
          "data": {
            "text/plain": [
              "array([0, 0])"
            ]
          },
          "metadata": {},
          "execution_count": 21
        }
      ]
    },
    {
      "cell_type": "code",
      "source": [
        "arr2  # so from the result below we may convince that when we change the slice of an array those elements inside an array will also change"
      ],
      "metadata": {
        "colab": {
          "base_uri": "https://localhost:8080/"
        },
        "id": "zcTxCZ6H-QRk",
        "outputId": "9a88902a-9c90-45c8-b751-f4da7c4c9fbe"
      },
      "execution_count": null,
      "outputs": [
        {
          "output_type": "execute_result",
          "data": {
            "text/plain": [
              "array([  0,  10,  20,  30,   0,   0,  60,  70,  80,  90, 100])"
            ]
          },
          "metadata": {},
          "execution_count": 22
        }
      ]
    },
    {
      "cell_type": "code",
      "source": [
        "arr2[::2] # it prints every other element from an array"
      ],
      "metadata": {
        "colab": {
          "base_uri": "https://localhost:8080/"
        },
        "id": "7rOCdA6rApCb",
        "outputId": "c8059703-0245-4e21-a239-6016aa0e2d92"
      },
      "execution_count": null,
      "outputs": [
        {
          "output_type": "execute_result",
          "data": {
            "text/plain": [
              "array([  0,  20,   0,  60,  80, 100])"
            ]
          },
          "metadata": {},
          "execution_count": 35
        }
      ]
    },
    {
      "cell_type": "markdown",
      "source": [
        "#copy method"
      ],
      "metadata": {
        "id": "KQ_nYucF-qxl"
      }
    },
    {
      "cell_type": "code",
      "source": [
        "sarr = arr2[4:6].copy()\n",
        "sarr[:]= -1\n",
        "arr2  # so with using the copy method we can prevent the change of the element"
      ],
      "metadata": {
        "colab": {
          "base_uri": "https://localhost:8080/"
        },
        "id": "YYzBaaDN-R4z",
        "outputId": "de044c75-08aa-40f0-8c53-cdeb21b08b36"
      },
      "execution_count": null,
      "outputs": [
        {
          "output_type": "execute_result",
          "data": {
            "text/plain": [
              "array([  0,  10,  20,  30,   0,   0,  60,  70,  80,  90, 100])"
            ]
          },
          "metadata": {},
          "execution_count": 29
        }
      ]
    },
    {
      "cell_type": "markdown",
      "source": [
        "#Indexing 2D arrays"
      ],
      "metadata": {
        "id": "y9cagRtFACzt"
      }
    },
    {
      "cell_type": "code",
      "source": [
        "arr1"
      ],
      "metadata": {
        "colab": {
          "base_uri": "https://localhost:8080/"
        },
        "id": "dvHZ_UAo-_57",
        "outputId": "32322e10-6f00-420a-f158-0f7436832f07"
      },
      "execution_count": null,
      "outputs": [
        {
          "output_type": "execute_result",
          "data": {
            "text/plain": [
              "array([[0, 1, 2],\n",
              "       [3, 4, 5]])"
            ]
          },
          "metadata": {},
          "execution_count": 30
        }
      ]
    },
    {
      "cell_type": "code",
      "source": [
        "arr1[1,2] #it should output 5 because it finds 2nd element form 2nd raw"
      ],
      "metadata": {
        "colab": {
          "base_uri": "https://localhost:8080/"
        },
        "id": "djFOAr6rAJdq",
        "outputId": "0c20971a-6907-41d0-dcfd-7d40fe1c23aa"
      },
      "execution_count": null,
      "outputs": [
        {
          "output_type": "execute_result",
          "data": {
            "text/plain": [
              "5"
            ]
          },
          "metadata": {},
          "execution_count": 31
        }
      ]
    },
    {
      "cell_type": "code",
      "source": [
        "arr1[0,1:] # from 1st raw slice all elements from 1"
      ],
      "metadata": {
        "colab": {
          "base_uri": "https://localhost:8080/"
        },
        "id": "6ZyeeqEUAOmv",
        "outputId": "352587d3-debf-47e1-ef1d-38deb6cf3175"
      },
      "execution_count": null,
      "outputs": [
        {
          "output_type": "execute_result",
          "data": {
            "text/plain": [
              "array([1, 2])"
            ]
          },
          "metadata": {},
          "execution_count": 33
        }
      ]
    },
    {
      "cell_type": "code",
      "source": [
        "arr1[1,0:3]"
      ],
      "metadata": {
        "colab": {
          "base_uri": "https://localhost:8080/"
        },
        "id": "WZA4NvHmBW2L",
        "outputId": "cf69dc12-ebbb-409e-d457-bf53c396e4a6"
      },
      "execution_count": null,
      "outputs": [
        {
          "output_type": "execute_result",
          "data": {
            "text/plain": [
              "array([3, 4, 5])"
            ]
          },
          "metadata": {},
          "execution_count": 36
        }
      ]
    },
    {
      "cell_type": "code",
      "source": [
        "arr1[0:2,2] # from  the raws from number 1 to 3, slice 2nd element"
      ],
      "metadata": {
        "colab": {
          "base_uri": "https://localhost:8080/"
        },
        "id": "NJM5lX4SCLy4",
        "outputId": "2b90055d-e998-4c5b-ba2b-51f602452ceb"
      },
      "execution_count": null,
      "outputs": [
        {
          "output_type": "execute_result",
          "data": {
            "text/plain": [
              "array([2, 5])"
            ]
          },
          "metadata": {},
          "execution_count": 37
        }
      ]
    },
    {
      "cell_type": "code",
      "source": [
        "arr1[1,[0,2]]"
      ],
      "metadata": {
        "colab": {
          "base_uri": "https://localhost:8080/"
        },
        "id": "3CMuJmrBFTKu",
        "outputId": "f5aed5e7-869d-45b9-d1d3-c93976a51fd5"
      },
      "execution_count": null,
      "outputs": [
        {
          "output_type": "execute_result",
          "data": {
            "text/plain": [
              "array([3, 5])"
            ]
          },
          "metadata": {},
          "execution_count": 51
        }
      ]
    },
    {
      "cell_type": "code",
      "source": [
        "arr1[0:2,0:2]"
      ],
      "metadata": {
        "colab": {
          "base_uri": "https://localhost:8080/"
        },
        "id": "MAnBpQCkCsGp",
        "outputId": "5396a074-8330-45ae-c4a6-4a1006df832f"
      },
      "execution_count": null,
      "outputs": [
        {
          "output_type": "execute_result",
          "data": {
            "text/plain": [
              "array([[0, 1],\n",
              "       [3, 4]])"
            ]
          },
          "metadata": {},
          "execution_count": 38
        }
      ]
    },
    {
      "cell_type": "markdown",
      "source": [
        "#Indexing and slicing 3D array"
      ],
      "metadata": {
        "id": "I7l9mK0bDQ4N"
      }
    },
    {
      "cell_type": "code",
      "source": [
        "arr3 = np.array([[[1,2,3]],[[4,5,6]],[[7,8,9]]])\n",
        "arr3[0]"
      ],
      "metadata": {
        "colab": {
          "base_uri": "https://localhost:8080/"
        },
        "id": "-rc2U1n8Cgbe",
        "outputId": "71ab3be3-7313-411c-e6b4-d14045899bcf"
      },
      "execution_count": null,
      "outputs": [
        {
          "output_type": "execute_result",
          "data": {
            "text/plain": [
              "array([[1, 2, 3]])"
            ]
          },
          "metadata": {},
          "execution_count": 40
        }
      ]
    },
    {
      "cell_type": "code",
      "source": [
        "arr3[1,0,2]"
      ],
      "metadata": {
        "colab": {
          "base_uri": "https://localhost:8080/"
        },
        "id": "y3lrJq1ADkhD",
        "outputId": "4cca3a62-89b0-46f7-a44f-af16881ffd4c"
      },
      "execution_count": null,
      "outputs": [
        {
          "output_type": "execute_result",
          "data": {
            "text/plain": [
              "6"
            ]
          },
          "metadata": {},
          "execution_count": 47
        }
      ]
    },
    {
      "cell_type": "code",
      "source": [
        "arr3[2][0,2]"
      ],
      "metadata": {
        "colab": {
          "base_uri": "https://localhost:8080/"
        },
        "id": "7T1cbhmRD69H",
        "outputId": "d3889294-b69f-41ee-e4bb-55b53ada58d7"
      },
      "execution_count": null,
      "outputs": [
        {
          "output_type": "execute_result",
          "data": {
            "text/plain": [
              "9"
            ]
          },
          "metadata": {},
          "execution_count": 48
        }
      ]
    },
    {
      "cell_type": "code",
      "source": [
        "arr3[1][0][0]"
      ],
      "metadata": {
        "colab": {
          "base_uri": "https://localhost:8080/"
        },
        "id": "qHg6JrhLETcW",
        "outputId": "3d9ab016-d0a4-467a-efcc-6ea287afd25c"
      },
      "execution_count": null,
      "outputs": [
        {
          "output_type": "execute_result",
          "data": {
            "text/plain": [
              "4"
            ]
          },
          "metadata": {},
          "execution_count": 49
        }
      ]
    },
    {
      "cell_type": "code",
      "source": [
        "import numpy as np\n",
        "array1 = np.arange(0,10).reshape(2,5)\n",
        "array1.astype(np.float128)\n",
        "array1.dtype"
      ],
      "metadata": {
        "id": "VimHFp8SEYsV",
        "colab": {
          "base_uri": "https://localhost:8080/"
        },
        "outputId": "3f4a67ea-89d1-455e-ff94-9fe90b2542ec"
      },
      "execution_count": null,
      "outputs": [
        {
          "output_type": "execute_result",
          "data": {
            "text/plain": [
              "dtype('int64')"
            ]
          },
          "metadata": {},
          "execution_count": 4
        }
      ]
    },
    {
      "cell_type": "markdown",
      "source": [
        "#Boolean inexing"
      ],
      "metadata": {
        "id": "3aEbKugRM2mN"
      }
    },
    {
      "cell_type": "code",
      "source": [
        "names = np.array([\"shohruh\",\"mirsiad\",\"miron\",\"elbek\",\"shohruh\"])\n",
        "names"
      ],
      "metadata": {
        "colab": {
          "base_uri": "https://localhost:8080/"
        },
        "id": "3ytYUhE3LR_S",
        "outputId": "1c4c1169-45ae-4c37-efa0-479e93565e04"
      },
      "execution_count": null,
      "outputs": [
        {
          "output_type": "execute_result",
          "data": {
            "text/plain": [
              "array(['shohruh', 'mirsiad', 'miron', 'elbek', 'shohruh'], dtype='<U7')"
            ]
          },
          "metadata": {},
          "execution_count": 9
        }
      ]
    },
    {
      "cell_type": "code",
      "source": [
        "data = np.random.randn(5,4)\n",
        "data"
      ],
      "metadata": {
        "colab": {
          "base_uri": "https://localhost:8080/"
        },
        "id": "jh9-GySaNGLc",
        "outputId": "c20f16a1-f59e-494f-a3b0-c937d91116fc"
      },
      "execution_count": null,
      "outputs": [
        {
          "output_type": "execute_result",
          "data": {
            "text/plain": [
              "array([[-1.42508694, -0.0854746 ,  0.3099696 ,  0.34419037],\n",
              "       [ 0.53379708,  0.05661724, -1.36098466,  0.66815246],\n",
              "       [-0.46621192,  0.71966811,  0.54056005,  1.88096599],\n",
              "       [-0.53682587,  0.19271711,  0.4965673 , -0.58622886],\n",
              "       [-2.13394203,  1.30770222, -0.14275349,  0.49299426]])"
            ]
          },
          "metadata": {},
          "execution_count": 6
        }
      ]
    },
    {
      "cell_type": "code",
      "source": [
        "names == \"shohruh\""
      ],
      "metadata": {
        "colab": {
          "base_uri": "https://localhost:8080/"
        },
        "id": "1ksAn00VNZy4",
        "outputId": "bb1164a9-6b24-4136-967d-d8c83a4cbdd0"
      },
      "execution_count": null,
      "outputs": [
        {
          "output_type": "execute_result",
          "data": {
            "text/plain": [
              "array([ True, False, False, False,  True])"
            ]
          },
          "metadata": {},
          "execution_count": 11
        }
      ]
    },
    {
      "cell_type": "code",
      "source": [
        "data[names == \"shohruh\"] # slice the information related to \"shohruh\""
      ],
      "metadata": {
        "colab": {
          "base_uri": "https://localhost:8080/"
        },
        "id": "2WnjuA6xOE-M",
        "outputId": "e0f9053c-4da9-413f-ba07-2c30a7dbec0e"
      },
      "execution_count": null,
      "outputs": [
        {
          "output_type": "execute_result",
          "data": {
            "text/plain": [
              "array([[-1.42508694, -0.0854746 ,  0.3099696 ,  0.34419037],\n",
              "       [-2.13394203,  1.30770222, -0.14275349,  0.49299426]])"
            ]
          },
          "metadata": {},
          "execution_count": 12
        }
      ]
    },
    {
      "cell_type": "code",
      "source": [
        "data[names == \"shohruh\"][1,2:4]"
      ],
      "metadata": {
        "colab": {
          "base_uri": "https://localhost:8080/"
        },
        "id": "TgTDP_ynOJ6B",
        "outputId": "7c0b865a-413e-4482-fe95-3e1d27cb207b"
      },
      "execution_count": null,
      "outputs": [
        {
          "output_type": "execute_result",
          "data": {
            "text/plain": [
              "array([-0.14275349,  0.49299426])"
            ]
          },
          "metadata": {},
          "execution_count": 13
        }
      ]
    },
    {
      "cell_type": "code",
      "source": [
        "data[names == \"shohruh\"][1,[2,3]]"
      ],
      "metadata": {
        "colab": {
          "base_uri": "https://localhost:8080/"
        },
        "id": "iQ3KA1wZPF-J",
        "outputId": "691ef9fa-0d96-444b-8281-f90b41bd77cb"
      },
      "execution_count": null,
      "outputs": [
        {
          "output_type": "execute_result",
          "data": {
            "text/plain": [
              "array([-0.14275349,  0.49299426])"
            ]
          },
          "metadata": {},
          "execution_count": 18
        }
      ]
    },
    {
      "cell_type": "code",
      "source": [
        "data[names == \"shohruh\",2:]"
      ],
      "metadata": {
        "colab": {
          "base_uri": "https://localhost:8080/"
        },
        "id": "FnsPWZ1-PYpr",
        "outputId": "f50dba25-f9e9-4627-8463-1b3dd96a1c4b"
      },
      "execution_count": null,
      "outputs": [
        {
          "output_type": "execute_result",
          "data": {
            "text/plain": [
              "array([[ 0.3099696 ,  0.34419037],\n",
              "       [-0.14275349,  0.49299426]])"
            ]
          },
          "metadata": {},
          "execution_count": 19
        }
      ]
    },
    {
      "cell_type": "code",
      "source": [
        "data[names !=\"shohruh\"] # slice the information of all except \"shohruh\""
      ],
      "metadata": {
        "colab": {
          "base_uri": "https://localhost:8080/"
        },
        "id": "Lk18vGyAPwyH",
        "outputId": "e796cde2-035f-4a10-ea02-fd93d1e8f8e4"
      },
      "execution_count": null,
      "outputs": [
        {
          "output_type": "execute_result",
          "data": {
            "text/plain": [
              "array([[ 0.53379708,  0.05661724, -1.36098466,  0.66815246],\n",
              "       [-0.46621192,  0.71966811,  0.54056005,  1.88096599],\n",
              "       [-0.53682587,  0.19271711,  0.4965673 , -0.58622886]])"
            ]
          },
          "metadata": {},
          "execution_count": 20
        }
      ]
    },
    {
      "cell_type": "code",
      "source": [
        "data[~(names == \"shohruh\")]"
      ],
      "metadata": {
        "colab": {
          "base_uri": "https://localhost:8080/"
        },
        "id": "Je1orGjuQLkq",
        "outputId": "21d593ee-2e51-4f35-f710-3f5e6dfff94e"
      },
      "execution_count": null,
      "outputs": [
        {
          "output_type": "execute_result",
          "data": {
            "text/plain": [
              "array([[ 0.53379708,  0.05661724, -1.36098466,  0.66815246],\n",
              "       [-0.46621192,  0.71966811,  0.54056005,  1.88096599],\n",
              "       [-0.53682587,  0.19271711,  0.4965673 , -0.58622886]])"
            ]
          },
          "metadata": {},
          "execution_count": 21
        }
      ]
    },
    {
      "cell_type": "code",
      "source": [
        "print(names)\n",
        "print(data)"
      ],
      "metadata": {
        "colab": {
          "base_uri": "https://localhost:8080/"
        },
        "id": "VYcsYjBQRiOW",
        "outputId": "3cc329a8-f23d-4052-df4d-b13ad50f925c"
      },
      "execution_count": null,
      "outputs": [
        {
          "output_type": "stream",
          "name": "stdout",
          "text": [
            "['shohruh' 'mirsiad' 'miron' 'elbek' 'shohruh']\n",
            "[[-1.42508694 -0.0854746   0.3099696   0.34419037]\n",
            " [ 0.53379708  0.05661724 -1.36098466  0.66815246]\n",
            " [-0.46621192  0.71966811  0.54056005  1.88096599]\n",
            " [-0.53682587  0.19271711  0.4965673  -0.58622886]\n",
            " [-2.13394203  1.30770222 -0.14275349  0.49299426]]\n"
          ]
        }
      ]
    },
    {
      "cell_type": "code",
      "source": [
        "data[(names == \"shohruh\") | (names == \"miron\")] # slices the information of miron and shohruh"
      ],
      "metadata": {
        "colab": {
          "base_uri": "https://localhost:8080/"
        },
        "id": "_gRXm2HgQU9a",
        "outputId": "f925dc75-4af6-4ea1-d3f3-c5856b0af7b3"
      },
      "execution_count": null,
      "outputs": [
        {
          "output_type": "execute_result",
          "data": {
            "text/plain": [
              "array([[-1.42508694, -0.0854746 ,  0.3099696 ,  0.34419037],\n",
              "       [-0.46621192,  0.71966811,  0.54056005,  1.88096599],\n",
              "       [-2.13394203,  1.30770222, -0.14275349,  0.49299426]])"
            ]
          },
          "metadata": {},
          "execution_count": 30
        }
      ]
    },
    {
      "cell_type": "code",
      "source": [
        "mask = (names == \"shohruh\")|(names == \"miron\")\n",
        "mask"
      ],
      "metadata": {
        "colab": {
          "base_uri": "https://localhost:8080/"
        },
        "id": "xuCsUzOcQlEE",
        "outputId": "dbb6f24a-ea5a-4557-e04b-3a42fa535803"
      },
      "execution_count": null,
      "outputs": [
        {
          "output_type": "execute_result",
          "data": {
            "text/plain": [
              "array([ True, False,  True, False,  True])"
            ]
          },
          "metadata": {},
          "execution_count": 32
        }
      ]
    },
    {
      "cell_type": "code",
      "source": [
        "data[data<0]= 0"
      ],
      "metadata": {
        "id": "4qO3_dnASNow"
      },
      "execution_count": null,
      "outputs": []
    },
    {
      "cell_type": "code",
      "source": [
        "data"
      ],
      "metadata": {
        "colab": {
          "base_uri": "https://localhost:8080/"
        },
        "id": "jUJxk21NSlcG",
        "outputId": "60f10445-0d09-4ce0-a193-2fea92839b86"
      },
      "execution_count": null,
      "outputs": [
        {
          "output_type": "execute_result",
          "data": {
            "text/plain": [
              "array([[0.        , 0.        , 0.3099696 , 0.34419037],\n",
              "       [0.53379708, 0.05661724, 0.        , 0.66815246],\n",
              "       [0.        , 0.71966811, 0.54056005, 1.88096599],\n",
              "       [0.        , 0.19271711, 0.4965673 , 0.        ],\n",
              "       [0.        , 1.30770222, 0.        , 0.49299426]])"
            ]
          },
          "metadata": {},
          "execution_count": 36
        }
      ]
    },
    {
      "cell_type": "code",
      "source": [],
      "metadata": {
        "id": "DKn4_e4JS1M4"
      },
      "execution_count": null,
      "outputs": []
    }
  ]
}