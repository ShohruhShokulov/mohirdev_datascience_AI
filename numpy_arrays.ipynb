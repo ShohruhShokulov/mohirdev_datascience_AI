{
  "nbformat": 4,
  "nbformat_minor": 0,
  "metadata": {
    "colab": {
      "provenance": [],
      "authorship_tag": "ABX9TyNWW8Mpxd+F21heRluIKIXd",
      "include_colab_link": true
    },
    "kernelspec": {
      "name": "python3",
      "display_name": "Python 3"
    },
    "language_info": {
      "name": "python"
    }
  },
  "cells": [
    {
      "cell_type": "markdown",
      "metadata": {
        "id": "view-in-github",
        "colab_type": "text"
      },
      "source": [
        "<a href=\"https://colab.research.google.com/github/ShohruhShokulov/mohirdev_datascience_AI/blob/main/numpy_arrays.ipynb\" target=\"_parent\"><img src=\"https://colab.research.google.com/assets/colab-badge.svg\" alt=\"Open In Colab\"/></a>"
      ]
    },
    {
      "cell_type": "markdown",
      "source": [
        "# Numpy\n",
        "- Numpy array\n"
      ],
      "metadata": {
        "id": "4qkGzRcJcTPh"
      }
    },
    {
      "cell_type": "code",
      "execution_count": null,
      "metadata": {
        "id": "e3X07oaLcMDS"
      },
      "outputs": [],
      "source": [
        "import numpy as np\n",
        "\n",
        "my_list = list(range(10000)) #list created in pyhton\n",
        "my_array = np.array([range(10000)])  # an array created using numpy array\n"
      ]
    },
    {
      "cell_type": "code",
      "source": [
        "%time for _ in range(10): [x*2 for x in my_list]\n"
      ],
      "metadata": {
        "colab": {
          "base_uri": "https://localhost:8080/"
        },
        "id": "xi3qAoCacpm2",
        "outputId": "e413df18-95bd-4a73-a67c-d649799cbfcb"
      },
      "execution_count": null,
      "outputs": [
        {
          "output_type": "stream",
          "name": "stdout",
          "text": [
            "CPU times: user 7.74 ms, sys: 0 ns, total: 7.74 ms\n",
            "Wall time: 8.26 ms\n"
          ]
        }
      ]
    },
    {
      "cell_type": "code",
      "source": [
        "%time for _ in range(10): my_array*2"
      ],
      "metadata": {
        "colab": {
          "base_uri": "https://localhost:8080/"
        },
        "id": "QdRDMRv9ezxi",
        "outputId": "eaa309a1-d9d4-4ef9-a7f3-fb947fbe8020"
      },
      "execution_count": null,
      "outputs": [
        {
          "output_type": "stream",
          "name": "stdout",
          "text": [
            "CPU times: user 1.35 ms, sys: 0 ns, total: 1.35 ms\n",
            "Wall time: 1.44 ms\n"
          ]
        }
      ]
    },
    {
      "cell_type": "code",
      "source": [
        "data1 = [1,2 ,3,4] #list\n",
        "arr1 = np.array(data1) #numpy Array"
      ],
      "metadata": {
        "id": "XZ-R9qw0kP3N"
      },
      "execution_count": null,
      "outputs": []
    },
    {
      "cell_type": "code",
      "source": [
        "data1"
      ],
      "metadata": {
        "colab": {
          "base_uri": "https://localhost:8080/"
        },
        "id": "nIpdS1U_khAn",
        "outputId": "b8069b16-6ad2-4e55-ab46-ae3a0ec18e65"
      },
      "execution_count": null,
      "outputs": [
        {
          "output_type": "execute_result",
          "data": {
            "text/plain": [
              "[1, 2, 3, 4]"
            ]
          },
          "metadata": {},
          "execution_count": 6
        }
      ]
    },
    {
      "cell_type": "code",
      "source": [
        "arr1"
      ],
      "metadata": {
        "colab": {
          "base_uri": "https://localhost:8080/"
        },
        "id": "Ex6ynUy6kl5i",
        "outputId": "5c871165-7586-4e62-bd0d-2aedb6ccd4b3"
      },
      "execution_count": null,
      "outputs": [
        {
          "output_type": "execute_result",
          "data": {
            "text/plain": [
              "array([1, 2, 3, 4])"
            ]
          },
          "metadata": {},
          "execution_count": 7
        }
      ]
    },
    {
      "cell_type": "code",
      "source": [
        "data2 = (1,2,3,4) #tuple\n",
        "arr2 = np.array(data2) # Array"
      ],
      "metadata": {
        "id": "FaiHWhi2kmyn"
      },
      "execution_count": null,
      "outputs": []
    },
    {
      "cell_type": "code",
      "source": [
        "data2"
      ],
      "metadata": {
        "colab": {
          "base_uri": "https://localhost:8080/"
        },
        "id": "ztRN3H3YlVS9",
        "outputId": "12168bdc-5093-4256-ac16-ccca9634891d"
      },
      "execution_count": null,
      "outputs": [
        {
          "output_type": "execute_result",
          "data": {
            "text/plain": [
              "(1, 2, 3, 4)"
            ]
          },
          "metadata": {},
          "execution_count": 9
        }
      ]
    },
    {
      "cell_type": "code",
      "source": [
        "arr2"
      ],
      "metadata": {
        "colab": {
          "base_uri": "https://localhost:8080/"
        },
        "id": "zz_U5DG_lWhB",
        "outputId": "3a004286-c3ac-4f2b-8074-f8a69c4c5eb3"
      },
      "execution_count": null,
      "outputs": [
        {
          "output_type": "execute_result",
          "data": {
            "text/plain": [
              "array([1, 2, 3, 4])"
            ]
          },
          "metadata": {},
          "execution_count": 10
        }
      ]
    },
    {
      "cell_type": "markdown",
      "source": [
        "#size of array"
      ],
      "metadata": {
        "id": "gZNvh-Eh26UM"
      }
    },
    {
      "cell_type": "code",
      "source": [
        "arr1.ndim #size of array 1"
      ],
      "metadata": {
        "colab": {
          "base_uri": "https://localhost:8080/"
        },
        "id": "mI0EwonzlY3E",
        "outputId": "098aa42b-3fd2-4331-a39d-fb9f97dd2d81"
      },
      "execution_count": null,
      "outputs": [
        {
          "output_type": "execute_result",
          "data": {
            "text/plain": [
              "1"
            ]
          },
          "metadata": {},
          "execution_count": 11
        }
      ]
    },
    {
      "cell_type": "code",
      "source": [
        "arr2.ndim #size of array 2"
      ],
      "metadata": {
        "colab": {
          "base_uri": "https://localhost:8080/"
        },
        "id": "BkESqsEQlc3q",
        "outputId": "f8c123ad-b8be-43dc-fec1-686f85941ac7"
      },
      "execution_count": null,
      "outputs": [
        {
          "output_type": "execute_result",
          "data": {
            "text/plain": [
              "1"
            ]
          },
          "metadata": {},
          "execution_count": 12
        }
      ]
    },
    {
      "cell_type": "code",
      "source": [
        "data3 = [[1,2,3,4],[5,6,7,8]] # nested list\n",
        "arr3 = np.array(data3) # array3"
      ],
      "metadata": {
        "id": "fp-uITVD2EvY"
      },
      "execution_count": null,
      "outputs": []
    },
    {
      "cell_type": "code",
      "source": [
        "data3"
      ],
      "metadata": {
        "colab": {
          "base_uri": "https://localhost:8080/"
        },
        "id": "P-jkNAJe2gUk",
        "outputId": "a199b2fd-4f92-4093-ac85-d7c48a925c36"
      },
      "execution_count": null,
      "outputs": [
        {
          "output_type": "execute_result",
          "data": {
            "text/plain": [
              "[[1, 2, 3, 4], [5, 6, 7, 8]]"
            ]
          },
          "metadata": {},
          "execution_count": 15
        }
      ]
    },
    {
      "cell_type": "code",
      "source": [
        "arr3"
      ],
      "metadata": {
        "colab": {
          "base_uri": "https://localhost:8080/"
        },
        "id": "14KsHob32q0D",
        "outputId": "03533f98-2f4a-492b-b08c-4cacc70965c3"
      },
      "execution_count": null,
      "outputs": [
        {
          "output_type": "execute_result",
          "data": {
            "text/plain": [
              "array([[1, 2, 3, 4],\n",
              "       [5, 6, 7, 8]])"
            ]
          },
          "metadata": {},
          "execution_count": 16
        }
      ]
    },
    {
      "cell_type": "code",
      "source": [
        "arr3.ndim"
      ],
      "metadata": {
        "colab": {
          "base_uri": "https://localhost:8080/"
        },
        "id": "B9qxuFqW2sCK",
        "outputId": "ba85c4fa-454a-43ab-aaeb-d338ec582685"
      },
      "execution_count": null,
      "outputs": [
        {
          "output_type": "execute_result",
          "data": {
            "text/plain": [
              "2"
            ]
          },
          "metadata": {},
          "execution_count": 17
        }
      ]
    },
    {
      "cell_type": "markdown",
      "source": [
        "#Shape and size methods in array\n",
        "- shape method is used to showing the number of raws and colums. Return tuple (r,  c)\n",
        "- size methods is used to showing the number of elements in an array"
      ],
      "metadata": {
        "id": "pcAr9cTk3JpS"
      }
    },
    {
      "cell_type": "code",
      "source": [
        "arr3.shape"
      ],
      "metadata": {
        "colab": {
          "base_uri": "https://localhost:8080/"
        },
        "id": "-LNcVP2e3Efd",
        "outputId": "218e8bf3-96a8-411a-8e49-369490c98a38"
      },
      "execution_count": null,
      "outputs": [
        {
          "output_type": "execute_result",
          "data": {
            "text/plain": [
              "(2, 4)"
            ]
          },
          "metadata": {},
          "execution_count": 18
        }
      ]
    },
    {
      "cell_type": "code",
      "source": [
        "arr3.size"
      ],
      "metadata": {
        "colab": {
          "base_uri": "https://localhost:8080/"
        },
        "id": "OMbGK5C83gAG",
        "outputId": "86d02d9e-4be3-49b3-8d6c-cbd2d0b838fe"
      },
      "execution_count": null,
      "outputs": [
        {
          "output_type": "execute_result",
          "data": {
            "text/plain": [
              "8"
            ]
          },
          "metadata": {},
          "execution_count": 19
        }
      ]
    },
    {
      "cell_type": "markdown",
      "source": [
        "# Creating numpy arrays using zeros and ones method"
      ],
      "metadata": {
        "id": "IoPQTRSm46G5"
      }
    },
    {
      "cell_type": "code",
      "source": [
        "arr4 = np.zeros(shape=(2,4))\n"
      ],
      "metadata": {
        "id": "jiWGgPdG4aUr"
      },
      "execution_count": null,
      "outputs": []
    },
    {
      "cell_type": "code",
      "source": [
        "arr4"
      ],
      "metadata": {
        "colab": {
          "base_uri": "https://localhost:8080/"
        },
        "id": "g6g7PkIX5UXl",
        "outputId": "85f3fb33-0cba-494b-b3f6-3412628fc584"
      },
      "execution_count": null,
      "outputs": [
        {
          "output_type": "execute_result",
          "data": {
            "text/plain": [
              "array([[0., 0., 0., 0.],\n",
              "       [0., 0., 0., 0.]])"
            ]
          },
          "metadata": {},
          "execution_count": 22
        }
      ]
    },
    {
      "cell_type": "code",
      "source": [
        "arr5 = np.ones(shape=(3,4))\n"
      ],
      "metadata": {
        "id": "4_AYGJPM5fL4"
      },
      "execution_count": null,
      "outputs": []
    },
    {
      "cell_type": "code",
      "source": [
        "arr5"
      ],
      "metadata": {
        "colab": {
          "base_uri": "https://localhost:8080/"
        },
        "id": "ktZApFdI5pxd",
        "outputId": "60a69713-0b25-4447-8a68-c062eede7599"
      },
      "execution_count": null,
      "outputs": [
        {
          "output_type": "execute_result",
          "data": {
            "text/plain": [
              "array([[1., 1., 1., 1.],\n",
              "       [1., 1., 1., 1.],\n",
              "       [1., 1., 1., 1.]])"
            ]
          },
          "metadata": {},
          "execution_count": 24
        }
      ]
    },
    {
      "cell_type": "markdown",
      "source": [
        "#creating arrays using arrange method"
      ],
      "metadata": {
        "id": "8v3vQ-TT5zDO"
      }
    },
    {
      "cell_type": "code",
      "source": [
        "arr6 = np.arange(0,100,12) # arrange function is the same as the range function in pyhton\n"
      ],
      "metadata": {
        "id": "RGJQ1-Fb5q5H"
      },
      "execution_count": null,
      "outputs": []
    },
    {
      "cell_type": "code",
      "source": [
        "arr6"
      ],
      "metadata": {
        "colab": {
          "base_uri": "https://localhost:8080/"
        },
        "id": "BPmoI_vE6T22",
        "outputId": "7de04278-5243-4864-dd50-fd2fddfd3168"
      },
      "execution_count": null,
      "outputs": [
        {
          "output_type": "execute_result",
          "data": {
            "text/plain": [
              "array([ 0, 12, 24, 36, 48, 60, 72, 84, 96])"
            ]
          },
          "metadata": {},
          "execution_count": 36
        }
      ]
    },
    {
      "cell_type": "code",
      "source": [],
      "metadata": {
        "id": "jhjZw2-26VVn"
      },
      "execution_count": null,
      "outputs": []
    }
  ]
}